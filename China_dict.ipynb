{
 "cells": [
  {
   "cell_type": "markdown",
   "metadata": {},
   "source": [
    "# Mandarin dictionnary\n",
    "\n",
    "\n",
    "On going. Fixed Python 3 stuff \n"
   ]
  },
  {
   "cell_type": "code",
   "execution_count": 112,
   "metadata": {
    "collapsed": true
   },
   "outputs": [],
   "source": [
    "import pickle\n",
    "import re\n",
    "import codecs\n",
    "\n",
    "from docx import Document\n",
    "\n",
    "import jieba as ji\n",
    "import jieba.analyse as ja\n",
    "\n",
    "__dict_path = './extra_dict/'\n",
    "ja.set_stop_words(__dict_path + \"stop_words.txt\")\n",
    "ja.set_idf_path(\"./extra_dict/idf.txt.big\");\n",
    "\n",
    "__dict_path = './extra_dict'\n",
    "\n",
    "ep = re.compile('a|e|i|o|u')\n",
    "\n",
    "#I took the html stuff and now it's a string in this module\n",
    "from html_code import *"
   ]
  },
  {
   "cell_type": "code",
   "execution_count": 127,
   "metadata": {},
   "outputs": [],
   "source": [
    "class MyWords(dict):\n",
    "    \n",
    "    def __init__(self,  \n",
    "                 src_pkl='words.pkl',\n",
    "                 tooltip='test'):\n",
    "        self.ordered_keys = []\n",
    "        self.src = src_pkl\n",
    "        tail = ' data-placement=\"top\" title=\"%s\">%s </a>'\n",
    "        self.wrapper = '<a class=\"%s\" href=\"#\" data-toggle=\"tooltip\"'%tooltip + tail \n",
    "        \n",
    "    \n",
    "    def tidy(self):\n",
    "        LL = self.keys()\n",
    "        LL.sort()\n",
    "        self.ordered_keys = LL\n",
    "        \n",
    "    def show_all(self):\n",
    "        self.tidy()\n",
    "        for x in self.ordered_keys:\n",
    "            print( self.show(x) )\n",
    "            \n",
    "    def look_up(self, other):\n",
    "        return [self.show(x) for x in other if x in self]\n",
    "    \n",
    "    def wrap(self, entity):\n",
    "        if entity in self and self[entity]: \n",
    "            payload = '%s : %s' %self[entity]\n",
    "            return self.wrapper%(payload, entity)\n",
    "        else:\n",
    "            return entity\n",
    "         \n",
    "    def missing(self, other):\n",
    "        return [x for x in other if x not in self]\n",
    "    \n",
    "    def load(self):\n",
    "        tt = pickle.load(open(self.src,'rb') )  \n",
    "        self.update(tt)\n",
    "        \n",
    "    def dump(self):\n",
    "        #not nice but we want to get it back one day\n",
    "        #even if we have modified the class definition so...\n",
    "        copy = {}\n",
    "        copy.update(self)\n",
    "        with open(self.src, 'wb') as fp:\n",
    "            pickle.dump(copy, fp)\n",
    "         \n",
    "    def show(self, key):\n",
    "        if not self[key]: return key + ' None'\n",
    "        payload = ' %s : %s' %self[key]\n",
    "        if isinstance(payload, str):\n",
    "            payload = (' %s : %s' %self[key]).decode('utf8')\n",
    "        return key + payload\n",
    "    \n",
    "def txt2web(paras=['',''],\n",
    "            my_words=[MyWords()],\n",
    "            fn='test_tool.html'):\n",
    "    \n",
    "    '''mark up a text with tool tips\n",
    "    from a list of  MyWord objects'''\n",
    "    import html_code\n",
    "    my_html = []\n",
    "    for para in paras[:]:\n",
    "        txt = [x[0] for x in ji.tokenize(para)]\n",
    "        for word_list in my_words:\n",
    "            #wrap() returns the string \n",
    "            #if it has already been  treated\n",
    "            txt = [word_list.wrap(w) for w in txt]              \n",
    "        my_html.append(txt)\n",
    "\n",
    "    my_html = [ '<p>%s</p>\\n'%' '.join( para) for para in my_html]\n",
    "    my_html = ''.join( my_html)\n",
    "    my_html= html_wrapper%my_html\n",
    "    \n",
    "    with codecs.open( fn, 'w', encoding='utf8') as ff:\n",
    "        ff.write( my_html)"
   ]
  },
  {
   "cell_type": "code",
   "execution_count": 128,
   "metadata": {},
   "outputs": [],
   "source": [
    "wiki_words = MyWords(src_pkl='wiki_words.pkl')\n",
    "wiki_words.load()"
   ]
  },
  {
   "cell_type": "code",
   "execution_count": 92,
   "metadata": {},
   "outputs": [],
   "source": [
    "#wiki_words"
   ]
  },
  {
   "cell_type": "code",
   "execution_count": 129,
   "metadata": {},
   "outputs": [],
   "source": [
    "txt2web(contents, my_words=[wiki_words])"
   ]
  },
  {
   "cell_type": "code",
   "execution_count": 124,
   "metadata": {},
   "outputs": [
    {
     "data": {
      "text/plain": [
       "{}"
      ]
     },
     "execution_count": 124,
     "metadata": {},
     "output_type": "execute_result"
    }
   ],
   "source": [
    "wiki_words"
   ]
  },
  {
   "cell_type": "code",
   "execution_count": 57,
   "metadata": {
    "collapsed": true
   },
   "outputs": [],
   "source": [
    "tt = MyWords(src_pkl='word_list.pkl',\n",
    "             tooltip='test1')\n",
    "tt.load()"
   ]
  },
  {
   "cell_type": "code",
   "execution_count": null,
   "metadata": {},
   "outputs": [],
   "source": []
  },
  {
   "cell_type": "code",
   "execution_count": null,
   "metadata": {},
   "outputs": [],
   "source": []
  },
  {
   "cell_type": "code",
   "execution_count": 32,
   "metadata": {
    "collapsed": true
   },
   "outputs": [],
   "source": [
    "#doc = Document('/Users/macbuse/Downloads/ZHU_TRANSLATIONS/holler_CN.docx')\n",
    "doc = Document('july_trans.docx')"
   ]
  },
  {
   "cell_type": "code",
   "execution_count": 130,
   "metadata": {},
   "outputs": [
    {
     "name": "stdout",
     "output_type": "stream",
     "text": [
      "7 ------------------------------------------------------------\n",
      "非常感谢有这么多人参加今天的交流和对话，我在北京感受到了人生当中非凡的体验。中国是一个拥有悠久历史的伟大国家，我们今天在场的所有人，不仅要作为在中国的中国人为这段历史作出贡献，更要感受到你们是来自世界的中国人。因为我们来自同一个世界。\n",
      "9 ------------------------------------------------------------\n",
      "刚才的幻灯片包括从我最初的艺术创作一直到最近的“第三天堂”，“第三天堂”的符号由三个圈组成，是我探索之路的最终呈现。我最早开始探索艺术是在50到60年代，那时我试着寻找自己的艺术定位与身份。在探索的过程中我大量使用自画像——我将镜子当中自己的影像，呈现在画布上。这让我了解自己是谁，要做什么，将来要走向哪里，更重要的是我要为这个世界做什么。我把所有的问题都集中在早期的自画像创作上。\n",
      "11 ------------------------------------------------------------\n",
      "镜子是我观照自己的重要手段。一般情况下，艺术家进行自画像创作时把镜子放在画布中间，将镜子中自己的影像在画布上再现出来。我有意把影子变成了画布，画布就是我的镜子。最早的镜画是怎么诞生的呢？我在画布上均匀涂上纯黑的颜料，使其呈现反光的效果，画布便具有镜子的属性。我也从画布中发现了自己的新形象。在凝视像镜子一样反射的黑色画布的过程中，我不仅仅发现了自己，还发现了和我一起观看这个镜面的观众。所以镜面自画像不仅仅是我的自画像，也是所有在画布面前的观众的影像。由此，我自己的自画像变成了世界的自画像。\n",
      "13 ------------------------------------------------------------\n",
      "后来我尝试用镜面不锈钢取代全黑的画布，镜面也成为我所有创作最基本的核心要素。这种镜面与观众的关系，在“第三天堂”理念中进一步升华为每一个个体跟世界之间的关系。在镜画的创作过程当中，我发现艺术也可以成为科学。\n",
      "15 ------------------------------------------------------------\n",
      "在我看来，镜画不再是一个二维空间的作品，也不是三维空间的作品，而是四维空间的作品，包含时间这一要素。因为镜中的影像仅仅是观看瞬间的影像，这个影像具有时间性，并不断变化。因为看镜子是一种直接体验，眼前所看到的影像只存在于现在，回头看的时候便不复存在，不看它的时候又变成了将来状态。这种不断变化、不断更新的“现在”的时间维度，也是无限的一种表现。镜画中的影像无论是人、物或者动物，都仅代表过去的一个影像。我们所看到的影像不断变化，而留在镜面的影像仅属于过去的一段记忆。所以镜画有四维维度，影像的不断变化使我们同时感受到时间的三个结点，即过去、现在和将来。也正因如此，镜画的特殊性所反应的并不是我自己的情感，感受或者想法，而是反应观看者所感受到所有经验的结合，是现象学上的综合体现。观看镜画的观众实际上都参与到这种存在主义现象学当中，直接参与并感受到世界的存在。这些作品所展现的并不仅是我自己，而是整个世界的特征。所以，镜画的整个体验过程，具有很强的双重性——你和我，这一双重性带来第三个要素——在你和我的参与中形成了我们。\n",
      "17 ------------------------------------------------------------\n",
      "在常青画廊个展中呈现的镜画作品，上面的影像来自去年在北京拍摄的一些人物生活片断，代表我在中国的种种体验。我很开心的是，作为一个艺术家，我能把个人生活的各个不同时期与社会，与世界不同时代之间建立起密切的联系。这并不仅仅是我个人的作品，更重要的是作品能够把我们联结在一起。我打算将中国镜画带到世界不同的地方，也希望把在其他地方创作的镜画带到中国来。\n",
      "19 ------------------------------------------------------------\n",
      "“第三天堂”符号同样展示了刚才所提到的这种双重性，这个双重性也体现在《镜笼》这件作品中。这件作品准确的名字应该是“破碎的镜片”，它来自于一个数学的公式。这件作品一开始呈现为一面单独的镜子，代表一个0。因为镜子单独存在的时候只是反射外界的物体，没有任何自己的存在，所以是0或者相当于空白。但是这面单独的镜子或者0却可以收集或者反射所有周边的一切，就像在从空无当中拥有一切。然后我把单面的镜子对半分开，相当于把一个0分成了两半，所以诞生了两个1。一个1没有任何存在的价值。但把一块镜面分开以后产生等同的两面镜子1和1，因此把0分开便形成了两个1。如果我们把镜子以一定角度摆放的时候可以在两个镜子当中看到新的影像反射出来。随着两面镜子的夹角的改变，当中所反射的镜子影像也在不断的变化，不断的增多。理论上，这两面镜子的夹角越小，所产生的镜像越多。当夹角为0，两面镜子对贴的时候便形成了无限循环的影像。所以在这个过程中，我们可以将单面的完整的镜子理解为0，一面镜子分割为对等的两半形成了1+1，然后两面镜子折影出从一个到无限多的反射。如果我们可以将镜子引申到人，可以将两面镜子想象为一个男人和女人，两者的结合产生第三个元素就是他们的后代。两个镜面夹角越小所产生的反射越多，如同人的创造力可以达到无限的延伸。\n",
      "21 ------------------------------------------------------------\n",
      "对镜面反射的探索是一种虚拟的探索，可以同样在人类社会或者生物上找到相应的印证。细胞分裂是一个非常形象的例子，一个细胞分为两个，两个分为四个，四个分为八个，由此无限循环下去。再如我自己的艺术探索从最早的自画像到镜面自画像，反应的不再仅仅是自己，而是整个世界，然后到不断繁衍的生物现象学现象。\n",
      "23 ------------------------------------------------------------\n",
      "而“第三天堂”符号再现了我创作的演变过程，也等同于基于数字“三”的动态学理论。当我提出“第三天堂”这一概念的时候，正是觉得我们今天所生活的这个世界或者社会，便处在一个非常微妙的时刻。在“第三天堂”的概念中，第一天堂指人类与自然完全和谐，完全沉醉于自然的状态。而在这个符号中的第二个圈代表人类人造的世界，人以智力与智行在自然之外所营造的一切。当下这个人类智慧或者能力几乎登峰造极的时代，便可以称之为第二天堂。它看似非常完美，给我们带来无限可能，另一方面却对人、自然甚至地球带来很多不利的方面。第二天堂可以说是科技和物质无限进步的时代，与此同时也需要相应的控制，与自然达到新的平衡。而这一新的平衡，即是“第三天堂”。这一符号已经以不同形式在世界各地展出，比如卢浮宫，意大利著名的阿西西橄榄林，以及日内瓦联合国建筑外，该符号用代表联合国所有成员国的石头组成。\n",
      "25 ------------------------------------------------------------\n",
      "由黑色、红色线条组成的符号，则表示有限的人生与无限的世界、无限的存在之间的辩证关系。无论是这次讲座照片上还是刚才幻灯片当中都能看到我举锤打破镜面的举动。这个行为以一个锤子把镜面打破，实际上跟一面镜子垂直分成两面是同一个动机，同一个行为，一分为二的镜子形成规则的形象，一面完整的镜子打碎以后，象征人类社会由每一个个体或者群体组成，碎片中的反射，代表人与人之间或者不同社团之间的关系。\n",
      "27 ------------------------------------------------------------\n",
      "今天我一直强调在镜子之间反复出现的现象学，这个现象学包含整个人类。单独一面镜子没有任何意义，一分为二得到两个不同元素并产生互动的过程代表人类社会，包括政治活动的发展演变。在政治层面上，我们正在经历建立第三天堂的新平衡的阶段——我们需要在自然与人造之间达到一个全新的平衡，以保证人类社会能够形成一种全新的政治格局。在这个格局之下，艺术不再是少数或者精英的艺术，而是大众的艺术。\n",
      "29 ------------------------------------------------------------\n",
      "1+1的这种格局，在政治上可以想象为两种绝然相对的政治统治形式——一种是独裁，一种是无政府。无政府即是没有性别隔离的、去组织化的一种社会秩序。两者中间是什么？将独裁与无政府相结合能创造什么呢？民主。一直以来民主都是人类社会的梦想，也仍仅是个梦想。无论是资本主义系还是共产主义政府都在谈论民主，但真正的民主并没有产生。我们生活的世界中，真正的民主仍然是一个未被实现的梦想。现在，从艺术出发， 我们试着以对立双方——比如资本主义与共产主义——的团结来实现“第三天堂”。我们能感受到真正实现民主梦想的重要性。\n",
      "31 ------------------------------------------------------------\n",
      "为什么民主如此难以实现？因为民主的概念源自希腊文明，demos意为人民，kratos意为权力。人民的权力不可能实现，因为社会是有巨大数量、没有个体权力的人民组成的。于是我们试着创造一个新的定义，一个新的词语来统一两个希腊概念，即代表人民的demos和代表实践的praxis——人民实践。人民的实践并非来自个体的权力获得，而是社会各领域中的群体获得权力。正像一加一等于三的概念，生活的两个领域可以找到平衡，并创造新的事物。\n",
      "33 ------------------------------------------------------------\n",
      "从镜子“划分与倍增”的系统延伸，社会的各部分也可以互相反射，并找到在离散时不可预见的共同目标。在古巴，我们正与来自不同社会领域的机构、组织及个体一起，进行一项充分的社会实践。比如探讨各自社会领域中互相关联之实践需求的10人圆桌论坛。这一示例并不是基于政治团体形成的意识形态系统，而是来自扎根于活跃社会组织中的实践体系。 所有的社会领域与活动依然并不依赖政府形态而存在。我们要实现跨领域的连接，才能创造能够政治化运转的社会。\n",
      "35 ------------------------------------------------------------\n",
      "我们所探讨的实践并不特指一个具体的国家，而是联合国（“第三天堂”符号也到访过其总部），及其提出的17个人类社会可持续发展的目标。所有的这些社会领域已经真实存在，只不过我们现在尝试以一种超脱政治理念的新方式，基于人们现实的需求来达到我们所希望设定的目标。这种尝试恰恰来自我在比耶拉建立的艺术城市，“第三天堂”正式从这里启动。“第三天堂”在全世界很多国家建立了或大或小的艺术大使馆，在这里“人民实践”活动正在缓慢地发展。因此，我们旨在建立一个与现有政治系统无关的社会进程，以艺术为起点，以社会的转变为目标。艺术与科学的学术研究正是这一新社会的基石。\n"
     ]
    }
   ],
   "source": [
    "for i, x in enumerate( doc.paragraphs[:]):\n",
    "    if len(x.text) < 50: continue\n",
    "    print(i, '-'*60)\n",
    "    print(x.text)\n",
    "    "
   ]
  },
  {
   "cell_type": "code",
   "execution_count": 59,
   "metadata": {},
   "outputs": [
    {
     "name": "stdout",
     "output_type": "stream",
     "text": [
      "从\t\n",
      "镜子\t\n",
      "“\t\n",
      "划分\t\n",
      "与\t\n",
      "倍增\t\n",
      "”\t\n",
      "的\t\n",
      "系统\t\n",
      "延伸\t\n"
     ]
    }
   ],
   "source": [
    "result = ji.tokenize(doc.paragraphs[33].text)\n",
    "for tk in list(result)[:10]:\n",
    "    print(u\"%s\\t\" % tk[0],)"
   ]
  },
  {
   "cell_type": "code",
   "execution_count": 60,
   "metadata": {},
   "outputs": [
    {
     "data": {
      "text/plain": [
       "['镜子',\n",
       " '我们',\n",
       " '一个',\n",
       " '社会',\n",
       " '天堂',\n",
       " '第三',\n",
       " '自己',\n",
       " '影像',\n",
       " '这个',\n",
       " '镜画',\n",
       " '镜面',\n",
       " '画布',\n",
       " '人类',\n",
       " '自画像',\n",
       " '无限',\n",
       " '两个',\n",
       " '当中',\n",
       " '符号',\n",
       " '所有',\n",
       " '而是',\n",
       " '一种',\n",
       " '存在',\n",
       " '代表',\n",
       " '民主',\n",
       " '实践',\n",
       " '中国',\n",
       " '过程',\n",
       " '不断',\n",
       " '不同',\n",
       " '两面',\n",
       " '人民',\n",
       " '领域',\n",
       " '探索',\n",
       " '创作',\n",
       " '所以',\n",
       " '这种',\n",
       " '产生',\n",
       " '自然',\n",
       " '政治',\n",
       " '艺术',\n",
       " '反射',\n",
       " '世界',\n",
       " '组成',\n",
       " '呈现',\n",
       " '个体',\n",
       " '这一',\n",
       " '变化',\n",
       " '现在',\n",
       " '生活',\n",
       " '实现']"
      ]
     },
     "execution_count": 60,
     "metadata": {},
     "output_type": "execute_result"
    }
   ],
   "source": [
    "#content = '\\n'.join( [para.text for para in doc.paragraphs])\n",
    "\n",
    "def get_words(txt, topK = 50):  \n",
    "    tags = ja.extract_tags(txt, topK=topK)\n",
    "    # if it is a number or english then kill it\n",
    "    p_kill = re.compile('(\\d+)|(a|e|i|o|u)')\n",
    "    #always convert to lower\n",
    "    return [x for x in tags if not p_kill.search(x.lower()) ]\n",
    "\n",
    "contents = [x.text for x in doc.paragraphs]\n",
    "top100 = get_words(' '.join(contents))\n",
    "top100"
   ]
  },
  {
   "cell_type": "code",
   "execution_count": 62,
   "metadata": {},
   "outputs": [
    {
     "ename": "NameError",
     "evalue": "name 'wiki_words' is not defined",
     "output_type": "error",
     "traceback": [
      "\u001b[0;31m---------------------------------------------------------------------------\u001b[0m",
      "\u001b[0;31mNameError\u001b[0m                                 Traceback (most recent call last)",
      "\u001b[0;32m<ipython-input-62-7b885097cce0>\u001b[0m in \u001b[0;36m<module>\u001b[0;34m\u001b[0m\n\u001b[0;32m----> 1\u001b[0;31m \u001b[0mmm\u001b[0m \u001b[0;34m=\u001b[0m \u001b[0mwiki_words\u001b[0m\u001b[0;34m.\u001b[0m\u001b[0mmissing\u001b[0m\u001b[0;34m(\u001b[0m\u001b[0mtop100\u001b[0m\u001b[0;34m)\u001b[0m\u001b[0;34m\u001b[0m\u001b[0m\n\u001b[0m\u001b[1;32m      2\u001b[0m \u001b[0mprint\u001b[0m\u001b[0;34m(\u001b[0m \u001b[0;34m'\\ '\u001b[0m\u001b[0;34m.\u001b[0m\u001b[0mjoin\u001b[0m\u001b[0;34m(\u001b[0m \u001b[0mtt\u001b[0m\u001b[0;34m.\u001b[0m\u001b[0mmissing\u001b[0m\u001b[0;34m(\u001b[0m\u001b[0mmm\u001b[0m\u001b[0;34m)\u001b[0m \u001b[0;34m)\u001b[0m \u001b[0;34m)\u001b[0m\u001b[0;34m\u001b[0m\u001b[0m\n",
      "\u001b[0;31mNameError\u001b[0m: name 'wiki_words' is not defined"
     ]
    }
   ],
   "source": [
    "mm = wiki_words.missing(top100) \n",
    "print( '\\ '.join( tt.missing(mm) ) )"
   ]
  },
  {
   "cell_type": "code",
   "execution_count": 412,
   "metadata": {},
   "outputs": [
    {
     "name": "stdout",
     "output_type": "stream",
     "text": [
      "一种 yī zhǒng : one kind of, one type of\n",
      "这个 zhè ge : this, this one\n",
      "方式 fāng shì : way, manner, style, mode, pattern, \n",
      "这种 zhè zhǒng : this, this kind of, this sort of, this type of\n",
      "系列 xì liè : series, set\n",
      "过程 guò chéng : course of events, process, \n",
      "抽象 chōu xiàng : abstract, abstraction\n",
      "一个 xià yī ge : the next one\n",
      "我们 wǒ men : we, us, ourselves, our\n",
      "发展 fā zhǎn : development, growth, to develop, to grow, to expand\n",
      "自我 zì wǒ : self-, ego (psychology)\n",
      "作品 zuò pǐn : work (of art), opus, \n",
      "所以 suǒ yǐ : therefore, as a result, so, the reason why\n",
      "中国 Zhōng guó : China\n",
      "线条 xiàn tiáo : line (in drawing, calligraphy etc), the lines or contours of a three-dimensional object (hairstyle, clothing, car etc)\n",
      "这些 zhè xiē : these\n",
      "只有 zhǐ yǒu : only\n",
      "可能 kě néng : might (happen), possible, probable, possibility, probability, maybe, perhaps\n",
      "展览 zhǎn lǎn : to put on display, to exhibit, exhibition, show, \n",
      "传统 chuán tǒng : tradition, traditional, convention, conventional\n",
      "早期 zǎo qī : early period, early phase, early stage\n",
      "当代艺术 None\n",
      "一切 yī qiè : everything, every, all\n",
      "艺术家 yì shù jiā : artist, \n",
      "接近 jiē jìn : to approach, to get close to\n",
      "价值 jià zhí : value, worth, fig. values (ethical, cultural etc)\n",
      "设计 shè jì : plan, design, to design, to plan\n",
      "以及 yǐ jí : as well as, too, and\n",
      "视觉 shì jué : sight, vision, visual\n",
      "创作 chuàng zuò : to create, to produce, to write, creative work, creation, \n",
      "空间 kōng jiān : space, \n",
      "这样 zhè yàng : this kind of, so, this way, like this, such\n"
     ]
    }
   ],
   "source": [
    "tokens = get_words(' '.join(paras) )\n",
    "for x in tt.look_up(tokens):\n",
    "    print x"
   ]
  },
  {
   "cell_type": "code",
   "execution_count": 414,
   "metadata": {},
   "outputs": [
    {
     "name": "stdout",
     "output_type": "stream",
     "text": [
      "张帆 绘画 布面 劳作 急就章 自叙 属于 成为 山林 现在 逻辑 危险 视为 奇观 基座 气息 仍然 形式主义 水图 抽象画 一张 书写 丙烯 质感 油画 采薇 符号 缓慢 似乎 高度 引自 僵尸 命题 苏轼 废品 存在 几个 有着 古典 几乎 真的 境界 身边 某个 容易 变化 格子 今格 设想 还是 消失 国际 画面 摹拟 之三 它们 完成 占据 禁锢\n"
     ]
    }
   ],
   "source": [
    "print ' '.join(tt.missing(tokens) )"
   ]
  },
  {
   "cell_type": "markdown",
   "metadata": {},
   "source": [
    "# Data extractors\n",
    "\n",
    "### Sources for vocabulary : \n",
    "\n",
    "1. https://en.wiktionary.org/wiki/\n",
    "1. https://chinese.yabla.com\n",
    "\n",
    "Neither of these are difficult to scrape\n",
    "\n",
    "#### Test texts :\n",
    "\n",
    "1. art.china.cn\n",
    "1. mp.weixin.qq.com\n",
    "\n",
    "Neither of these are difficult to scrape\n",
    "but they use different container classes...see code\n",
    "\n",
    "\n",
    "### Wiki\n",
    "\n",
    "The big problem here is that there are repeated <a></a> tags\n",
    "and the regexp isn't trivial\n",
    "\n",
    "`ur'<a.*?>(.*?)</a></span>.*?<a.*?</a></span>.*?<a.*?>(.*?)</a>\\)(.*?)<' `\n",
    "\n",
    "### Yabla\n",
    "\n",
    "This is a standard data collector :\n",
    "\n",
    "1. should check the current dictionnaries before making a request\n",
    "2. the utf8 has to be encoded for the request string\n",
    "\n"
   ]
  },
  {
   "cell_type": "code",
   "execution_count": 106,
   "metadata": {
    "collapsed": true
   },
   "outputs": [],
   "source": [
    "import urllib2\n",
    "\n",
    "def yabla_lookup(word_bag = []):\n",
    "    pdef =  re.compile(ur'class=\"definition\">.*?=\"pinyin\">(.*?)<.*?=\"meaning\">(.*?)<',re.DOTALL)\n",
    "    stuff = {x:'' for x in word_bag} \n",
    "\n",
    "    for word in word_bag:\n",
    "        print word,\n",
    "        qq = urllib2.quote(word.encode('utf8'))\n",
    "        base_url = u'https://chinese.yabla.com/chinese-english-pinyin-dictionary.php?define='\n",
    "        data = urllib2.urlopen(base_url + qq).read()\n",
    "        stuff[word] = pdef.search(data)\n",
    "    return stuff\n",
    "\n",
    "def clean(txt, meaning=False):\n",
    "    if meaning : return txt.split('\\n')[0] + ' '\n",
    "    pinyin, meaning = y.group(1), y.group(2)\n",
    "    meanings = meaning.split('CL:')[0] \n",
    "    #there is a trailing \\n so strip() it \n",
    "    return (pinyin, meaning.strip().replace('\\n',', ') )"
   ]
  },
  {
   "cell_type": "code",
   "execution_count": null,
   "metadata": {
    "collapsed": true
   },
   "outputs": [],
   "source": [
    "import urllib2, re\n",
    "\n",
    "dp = ur'<a.*?>(.*?)</a></span>.*?<a.*?</a></span>.*?<a.*?>(.*?)</a>\\)(.*?)<'\n",
    "dp = re.compile(dp)\n",
    "\n",
    "base_url = 'https://en.wiktionary.org/wiki/Appendix:Mandarin_Frequency_lists'\n",
    "\n",
    "n = 4\n",
    "data = urllib2.urlopen(base_url + '/%d001-%d000'%(n,n+1)).read()\n",
    "matches = dp.findall(data)\n",
    "\n",
    "for x in matches[:]:\n",
    "    entity, pinyin, meaning = [unicode(w,'utf8') for w in x]\n",
    "    wiki_words[entity = (pinyin, meaning[3:])"
   ]
  },
  {
   "cell_type": "code",
   "execution_count": null,
   "metadata": {
    "collapsed": true
   },
   "outputs": [],
   "source": [
    "from bs4 import BeautifulSoup\n",
    "import urllib2\n",
    "\n",
    "#data = urllib2.urlopen('http://art.china.cn/tongzhi/2018-03/13/content_40249473.htm').read()\n",
    "\n",
    "#data = urllib2.urlopen('http://art.china.cn/ysjt/2017-09/20/content_40022118.htm').read()\n",
    "#data = urllib2.urlopen('http://art.china.cn/haiwai/2016-05/06/content_8753835.htm').read()\n",
    "data = urllib2.urlopen('http://mp.weixin.qq.com/s/FIBpmy2GFPRMvXFNCd8lLg').read()\n",
    "\n",
    "def extract_contents(html,\n",
    "                        div_class='content'):\n",
    "    \n",
    "    '''return all the paragraphs in the html'''\n",
    "    \n",
    "    soup = BeautifulSoup(html, 'lxml')\n",
    "    payload = soup.find('div', {'class' : div_class})\n",
    "    return [p.text for p in payload.find_all('p')]  \n",
    "\n",
    "class4 = {'art.china.cn': 'content', 'mp.weixin.qq.com' : \"rich_media_content \" }\n",
    "contents2 = extract_contents(data, \n",
    "                             div_class=class4['mp.weixin.qq.com'])"
   ]
  },
  {
   "cell_type": "code",
   "execution_count": 55,
   "metadata": {},
   "outputs": [
    {
     "ename": "NameError",
     "evalue": "name 'file' is not defined",
     "output_type": "error",
     "traceback": [
      "\u001b[0;31m---------------------------------------------------------------------------\u001b[0m",
      "\u001b[0;31mNameError\u001b[0m                                 Traceback (most recent call last)",
      "\u001b[0;32m<ipython-input-55-90596651ca2f>\u001b[0m in \u001b[0;36m<module>\u001b[0;34m\u001b[0m\n\u001b[1;32m      1\u001b[0m \u001b[0mnew_stuff\u001b[0m \u001b[0;34m=\u001b[0m \u001b[0;34m[\u001b[0m\u001b[0;34m]\u001b[0m\u001b[0;34m\u001b[0m\u001b[0m\n\u001b[1;32m      2\u001b[0m \u001b[0mtt\u001b[0m\u001b[0;34m.\u001b[0m\u001b[0mupdate\u001b[0m\u001b[0;34m(\u001b[0m\u001b[0mnew_stuff\u001b[0m\u001b[0;34m)\u001b[0m\u001b[0;34m\u001b[0m\u001b[0m\n\u001b[0;32m----> 3\u001b[0;31m \u001b[0mtt\u001b[0m\u001b[0;34m.\u001b[0m\u001b[0mdump\u001b[0m\u001b[0;34m(\u001b[0m\u001b[0;34m)\u001b[0m\u001b[0;34m\u001b[0m\u001b[0m\n\u001b[0m\u001b[1;32m      4\u001b[0m \u001b[0mmm\u001b[0m \u001b[0;34m=\u001b[0m \u001b[0mwiki_words\u001b[0m\u001b[0;34m.\u001b[0m\u001b[0mmissing\u001b[0m\u001b[0;34m(\u001b[0m\u001b[0mtop100\u001b[0m\u001b[0;34m)\u001b[0m\u001b[0;34m\u001b[0m\u001b[0m\n\u001b[1;32m      5\u001b[0m \u001b[0mprint\u001b[0m\u001b[0;34m(\u001b[0m\u001b[0;34m'\\ '\u001b[0m\u001b[0;34m.\u001b[0m\u001b[0mjoin\u001b[0m\u001b[0;34m(\u001b[0m \u001b[0mtt\u001b[0m\u001b[0;34m.\u001b[0m\u001b[0mmissing\u001b[0m\u001b[0;34m(\u001b[0m\u001b[0mmm\u001b[0m\u001b[0;34m)\u001b[0m\u001b[0;34m)\u001b[0m \u001b[0;34m)\u001b[0m\u001b[0;34m\u001b[0m\u001b[0m\n",
      "\u001b[0;32m<ipython-input-27-eea49c98983f>\u001b[0m in \u001b[0;36mdump\u001b[0;34m(self)\u001b[0m\n\u001b[1;32m     45\u001b[0m         \u001b[0mcopy\u001b[0m \u001b[0;34m=\u001b[0m \u001b[0;34m{\u001b[0m\u001b[0;34m}\u001b[0m\u001b[0;34m\u001b[0m\u001b[0m\n\u001b[1;32m     46\u001b[0m         \u001b[0mcopy\u001b[0m\u001b[0;34m.\u001b[0m\u001b[0mupdate\u001b[0m\u001b[0;34m(\u001b[0m\u001b[0mself\u001b[0m\u001b[0;34m)\u001b[0m\u001b[0;34m\u001b[0m\u001b[0m\n\u001b[0;32m---> 47\u001b[0;31m         \u001b[0;32mwith\u001b[0m \u001b[0mfile\u001b[0m\u001b[0;34m(\u001b[0m\u001b[0mself\u001b[0m\u001b[0;34m.\u001b[0m\u001b[0msrc\u001b[0m\u001b[0;34m,\u001b[0m \u001b[0;34m'wb'\u001b[0m\u001b[0;34m)\u001b[0m \u001b[0;32mas\u001b[0m \u001b[0mfp\u001b[0m\u001b[0;34m:\u001b[0m\u001b[0;34m\u001b[0m\u001b[0m\n\u001b[0m\u001b[1;32m     48\u001b[0m             \u001b[0mpickle\u001b[0m\u001b[0;34m.\u001b[0m\u001b[0mdump\u001b[0m\u001b[0;34m(\u001b[0m\u001b[0mcopy\u001b[0m\u001b[0;34m,\u001b[0m \u001b[0mfp\u001b[0m\u001b[0;34m)\u001b[0m\u001b[0;34m\u001b[0m\u001b[0m\n\u001b[1;32m     49\u001b[0m \u001b[0;34m\u001b[0m\u001b[0m\n",
      "\u001b[0;31mNameError\u001b[0m: name 'file' is not defined"
     ]
    }
   ],
   "source": [
    "new_stuff = []\n",
    "tt.update(new_stuff)\n",
    "tt.dump()\n",
    "mm = wiki_words.missing(top100) \n",
    "print('\\ '.join( tt.missing(mm)) )\n",
    "new_stuff = yabla_lookup(tt.missing(mm)) "
   ]
  },
  {
   "cell_type": "code",
   "execution_count": 108,
   "metadata": {},
   "outputs": [
    {
     "name": "stdout",
     "output_type": "stream",
     "text": [
      "山林\n",
      "一张\n",
      "布面\n",
      "急就章\n",
      "水图\n",
      "张帆\n",
      "自叙\n",
      "抽象画\n"
     ]
    }
   ],
   "source": [
    "failed = []\n",
    "for x,y in new_stuff.items():\n",
    "    try:\n",
    "        new_stuff[x] = clean(y)\n",
    "    except:\n",
    "        failed.append(x)\n",
    "        \n",
    "print '\\n'.join(failed)\n",
    "    "
   ]
  },
  {
   "cell_type": "markdown",
   "metadata": {},
   "source": [
    "So with what is left we are going to have to do some **mechanical turk**\n",
    "\n",
    "Trouble is that google translate uses seriously obfuscated javascript...."
   ]
  },
  {
   "cell_type": "code",
   "execution_count": 109,
   "metadata": {
    "collapsed": true
   },
   "outputs": [],
   "source": [
    "src = u'''山林\n",
    "采薇\n",
    "引自\n",
    "一张\n",
    "真的\n",
    "布面\n",
    "今格\n",
    "水图\n",
    "自叙\n",
    "抽象画'''\n",
    "\n",
    "pyn = u'''Shānlín\n",
    "cǎi wēi\n",
    "yǐn zì\n",
    "yī zhāng\n",
    "zhēn de\n",
    "bù miàn\n",
    "jīn gé\n",
    "shuǐ tú\n",
    "zìxù\n",
    "chōuxiàng huà'''\n",
    "\n",
    "tgt = '''Mountain forest\n",
    "Petch\n",
    "cited from\n",
    "One sheet\n",
    "Really\n",
    "Cloth surface\n",
    "In this case\n",
    "Water map\n",
    "Self-description\n",
    "Abstract painting'''\n",
    "\n",
    "payload = zip([ x.lower() for x in pyn.split('\\n') ],\n",
    "[ x.lower() for x in tgt.split('\\n') ])\n",
    "for w, dd in zip( src.split('\\n'), payload):\n",
    "    new_stuff[w] = dd\n"
   ]
  },
  {
   "cell_type": "markdown",
   "metadata": {},
   "source": [
    "Keep the dictionnary clean !! \n",
    "There is a risk of getting str from the clipboard "
   ]
  },
  {
   "cell_type": "code",
   "execution_count": 419,
   "metadata": {
    "collapsed": true
   },
   "outputs": [],
   "source": [
    "for x in new_stuff.keys():\n",
    "    if isinstance(x,str):\n",
    "        del stuff[x]\n",
    "\n",
    "for x in [u'苏摩 苏摩']:\n",
    "    if x in new_stuff:\n",
    "        del new_stuff[x]"
   ]
  },
  {
   "cell_type": "code",
   "execution_count": 147,
   "metadata": {},
   "outputs": [
    {
     "ename": "SyntaxError",
     "evalue": "Missing parentheses in call to 'print'. Did you mean print(x, '%s %s' %y)? (<ipython-input-147-f9e3c6647361>, line 2)",
     "output_type": "error",
     "traceback": [
      "\u001b[0;36m  File \u001b[0;32m\"<ipython-input-147-f9e3c6647361>\"\u001b[0;36m, line \u001b[0;32m2\u001b[0m\n\u001b[0;31m    print x, '%s %s' %y\u001b[0m\n\u001b[0m          ^\u001b[0m\n\u001b[0;31mSyntaxError\u001b[0m\u001b[0;31m:\u001b[0m Missing parentheses in call to 'print'. Did you mean print(x, '%s %s' %y)?\n"
     ]
    }
   ],
   "source": [
    "for x,y in new_stuff.items():\n",
    "    print x, '%s %s' %y"
   ]
  },
  {
   "cell_type": "code",
   "execution_count": 25,
   "metadata": {
    "collapsed": true
   },
   "outputs": [],
   "source": [
    "def multiple_replace(text, adict):\n",
    "    rx = re.compile('|'.join(map(re.escape, adict)))\n",
    "    def one_xlat(match):\n",
    "        return adict[match.group(0)]\n",
    "    return rx.sub(one_xlat, text)"
   ]
  },
  {
   "cell_type": "code",
   "execution_count": 248,
   "metadata": {
    "collapsed": true
   },
   "outputs": [],
   "source": [
    "#multiple_replace(content, m2ex)"
   ]
  },
  {
   "cell_type": "code",
   "execution_count": 49,
   "metadata": {},
   "outputs": [
    {
     "data": {
      "text/plain": [
       "[7, 0, 20, 390, 0, 222, 5, 275, 355, 0, 186, 5]"
      ]
     },
     "execution_count": 49,
     "metadata": {},
     "output_type": "execute_result"
    }
   ],
   "source": [
    "content2 = '\\n'.join(x.text for x in doc.paragraphs \n",
    "                             if x.text and len(ep.findall(x.text) ) < 30 )\n",
    "#print content2\n",
    "\n",
    "[ len(ep.findall(x.text) )for x in doc.paragraphs  if x.text] \n"
   ]
  },
  {
   "cell_type": "code",
   "execution_count": 52,
   "metadata": {},
   "outputs": [
    {
     "data": {
      "text/plain": [
       "[0.175,\n",
       " 0.0,\n",
       " 0.055865921787709494,\n",
       " 0.31630170316301703,\n",
       " 0.0,\n",
       " 0.2817258883248731,\n",
       " 0.01845018450184502,\n",
       " 0.29411764705882354,\n",
       " 0.281076801266825,\n",
       " 0.0,\n",
       " 0.2957074721780604,\n",
       " 0.18518518518518517]"
      ]
     },
     "execution_count": 52,
     "metadata": {},
     "output_type": "execute_result"
    }
   ],
   "source": [
    "[ len(ep.findall(x.text)) / float(len(x.text)) for x in doc.paragraphs  if x.text]"
   ]
  },
  {
   "cell_type": "code",
   "execution_count": 89,
   "metadata": {
    "collapsed": true
   },
   "outputs": [],
   "source": [
    "paras = [ x for x in contents2 if len(x)>0 and len(ep.findall(x.lower()))/float(len(x)) <.2 ]"
   ]
  },
  {
   "cell_type": "code",
   "execution_count": 241,
   "metadata": {},
   "outputs": [
    {
     "name": "stdout",
     "output_type": "stream",
     "text": [
      "观众 guān zhòng : spectators, audience, visitors (to an exhibition etc)\n",
      "装置 zhuāng zhì : to install, installation, equipment, system, unit, device\n",
      "一个 xià yī ge : the next one\n",
      "作品 zuò pǐn : work (of art), opus, \n",
      "空间 kōng jiān : space, \n",
      "展览 zhǎn lǎn : to put on display, to exhibit, exhibition, show, \n",
      "选择 xuǎn zé : to select, to pick, choice, option, alternative\n",
      "艺术家 yì shù jiā : artist, \n",
      "自然 zì rán : nature, natural, naturally\n",
      "思考 sī kǎo : to reflect on, to ponder over\n"
     ]
    }
   ],
   "source": [
    "new_words = get_words(contents2)\n",
    "for x in tt.look_up(new_words)[:10]:\n",
    "    print x\n"
   ]
  },
  {
   "cell_type": "code",
   "execution_count": 246,
   "metadata": {},
   "outputs": [
    {
     "name": "stdout",
     "output_type": "stream",
     "text": [
      " 奥莱 卡斯特 渐近线 能够 决定 无限 怀疑 幻觉 还有 观展 其中 感官 人们 其他 直线 这样 不同 曲线 参与 哪条 愉悦 当代艺术 颜色 文森特 时间 融入 这位 看来 根据 延伸 生于 组成 视觉 应该 所以 只有 可能 不断 相同 展现 比利 才能 对称 固有 拥有 这次 现长 别人 直接 对比 参展者 近于零 冥想 彩色 比如说 觉得 二分之一\n"
     ]
    }
   ],
   "source": [
    "new_stuff = yabla_lookup(tt.missing(new_words))"
   ]
  },
  {
   "cell_type": "code",
   "execution_count": 256,
   "metadata": {
    "collapsed": true
   },
   "outputs": [],
   "source": [
    "failed = []\n",
    "for x,y in new_stuff.items():\n",
    "    try:\n",
    "        new_stuff[x] = clean(y)\n",
    "    except:\n",
    "        failed.append(x)"
   ]
  },
  {
   "cell_type": "code",
   "execution_count": 251,
   "metadata": {},
   "outputs": [
    {
     "name": "stdout",
     "output_type": "stream",
     "text": [
      "融入\\ 近于零\\ 还有\\ 这位\\ 看来\\ 感官\\ 文森特\\ 展现\\ 觉得\\ 观展\\ 怀疑\\ 时间\\ 视觉\\ 卡斯特\\ 颜色\\ 所以\\ 能够\\ 根据\\ 可能\\ 冥想\\ 只有\\ 其他\\ 参展者\\ 人们\\ 决定\\ 彩色\\ 不断\\ 参与\\ 其中\\ 二分之一\\ 比如说\\ 比利\\ 延伸\\ 对称\\ 应该\\ 奥莱\\ 哪条\\ 组成\\ 渐近线\\ 直线\\ 拥有\\ 固有\\ 相同\\ 生于\\ 才能\\ 不同\\ 曲线\\ 现长\\ 这次\\ 无限\\ 当代艺术\\ 别人\\ 幻觉\\ 直接\\ 对比\\ 这样\\ 愉悦\n"
     ]
    }
   ],
   "source": [
    "print '\\ '.join(failed)"
   ]
  },
  {
   "cell_type": "code",
   "execution_count": 522,
   "metadata": {},
   "outputs": [],
   "source": [
    "tt.update(new_stuff)"
   ]
  },
  {
   "cell_type": "code",
   "execution_count": 425,
   "metadata": {
    "collapsed": true
   },
   "outputs": [],
   "source": [
    "tt.dump()\n",
    "tt = MyWords()\n",
    "tt.load()"
   ]
  },
  {
   "cell_type": "code",
   "execution_count": 367,
   "metadata": {},
   "outputs": [
    {
     "name": "stdout",
     "output_type": "stream",
     "text": [
      "蒋兆和\n",
      "于洋\n",
      "苦茶\n",
      "生民\n",
      "乡关\n",
      "家国\n"
     ]
    }
   ],
   "source": [
    "print '\\n'.join( tt.missing(tags2))"
   ]
  },
  {
   "cell_type": "markdown",
   "metadata": {},
   "source": [
    "## Automatic translation using google translate\n"
   ]
  },
  {
   "cell_type": "code",
   "execution_count": null,
   "metadata": {},
   "outputs": [],
   "source": [
    "from googletrans import Translator\n",
    "translator = Translator()\n",
    "\n",
    "target = Document()\n",
    "\n",
    "target.add_heading('Translation', 0)\n",
    "\n",
    "data = []\n",
    "for x in doc.paragraphs[:]:\n",
    "    if not x.text  : continue\n",
    "    target.add_paragraph( x.text  )\n",
    "    x_clean = x.text.replace('??','')\n",
    "    x_clean = x_clean.replace('**','')\n",
    "    gt = translator.translate(x_clean, dest='en')\n",
    "    target.add_paragraph( gt.text )\n",
    "    target.add_paragraph( '-'*60)\n",
    "    \n",
    "target.save('my_trans.docx')\n",
    "\n"
   ]
  },
  {
   "cell_type": "code",
   "execution_count": 145,
   "metadata": {},
   "outputs": [],
   "source": [
    "from googletrans import Translator\n",
    "translator = Translator()\n",
    "\n",
    "def txt2web2(paras=['',''],\n",
    "            my_words=[MyWords()],\n",
    "            fn='test_tool.html'):\n",
    "    \n",
    "    '''mark up a text with tool tips\n",
    "    from a list of  MyWord objects'''\n",
    "    import html_code\n",
    "    target = []\n",
    "\n",
    "    for para in paras:\n",
    "\n",
    "        x_clean = para.replace('??','')\n",
    "        x_clean = x_clean.replace('**','')\n",
    "        txt = [x[0] for x in ji.tokenize(para)]\n",
    "        \n",
    "        for word_list in my_words:\n",
    "            #wrap() returns the string \n",
    "            #if it has already been  treated\n",
    "            txt = [word_list.wrap(w) for w in txt]              \n",
    "        target.append(txt)\n",
    "        gt = translator.translate(x_clean, dest='en')\n",
    "        target.append( gt.text )\n",
    "        target.append( '-'*60)\n",
    "\n",
    "    my_html = [ '<p>%s</p>\\n'%' '.join( para) for para in target]\n",
    "    my_html = ''.join( my_html)\n",
    "    my_html= html_wrapper%my_html\n",
    "    \n",
    "    with codecs.open( fn, 'w', encoding='utf8') as ff:\n",
    "        ff.write( my_html)"
   ]
  },
  {
   "cell_type": "code",
   "execution_count": 146,
   "metadata": {},
   "outputs": [],
   "source": [
    "txt2web2(paras=[x.text for x in doc.paragraphs],my_words=[wiki_words])"
   ]
  },
  {
   "cell_type": "code",
   "execution_count": 135,
   "metadata": {},
   "outputs": [
    {
     "data": {
      "text/plain": [
       "['米开朗基罗·皮斯特莱托 MICHELANGELO PISTOLETTO | CAFA讲座文本',\n",
       " '',\n",
       " '主题：你和我等于三',\n",
       " '时间：2018年6月24日下午',\n",
       " '地点：中央美院美术馆学术报告厅',\n",
       " '',\n",
       " '    ',\n",
       " '非常感谢有这么多人参加今天的交流和对话，我在北京感受到了人生当中非凡的体验。中国是一个拥有悠久历史的伟大国家，我们今天在场的所有人，不仅要作为在中国的中国人为这段历史作出贡献，更要感受到你们是来自世界的中国人。因为我们来自同一个世界。',\n",
       " '',\n",
       " '刚才的幻灯片包括从我最初的艺术创作一直到最近的“第三天堂”，“第三天堂”的符号由三个圈组成，是我探索之路的最终呈现。我最早开始探索艺术是在50到60年代，那时我试着寻找自己的艺术定位与身份。在探索的过程中我大量使用自画像——我将镜子当中自己的影像，呈现在画布上。这让我了解自己是谁，要做什么，将来要走向哪里，更重要的是我要为这个世界做什么。我把所有的问题都集中在早期的自画像创作上。',\n",
       " '',\n",
       " '镜子是我观照自己的重要手段。一般情况下，艺术家进行自画像创作时把镜子放在画布中间，将镜子中自己的影像在画布上再现出来。我有意把影子变成了画布，画布就是我的镜子。最早的镜画是怎么诞生的呢？我在画布上均匀涂上纯黑的颜料，使其呈现反光的效果，画布便具有镜子的属性。我也从画布中发现了自己的新形象。在凝视像镜子一样反射的黑色画布的过程中，我不仅仅发现了自己，还发现了和我一起观看这个镜面的观众。所以镜面自画像不仅仅是我的自画像，也是所有在画布面前的观众的影像。由此，我自己的自画像变成了世界的自画像。',\n",
       " '',\n",
       " '后来我尝试用镜面不锈钢取代全黑的画布，镜面也成为我所有创作最基本的核心要素。这种镜面与观众的关系，在“第三天堂”理念中进一步升华为每一个个体跟世界之间的关系。在镜画的创作过程当中，我发现艺术也可以成为科学。',\n",
       " '',\n",
       " '在我看来，镜画不再是一个二维空间的作品，也不是三维空间的作品，而是四维空间的作品，包含时间这一要素。因为镜中的影像仅仅是观看瞬间的影像，这个影像具有时间性，并不断变化。因为看镜子是一种直接体验，眼前所看到的影像只存在于现在，回头看的时候便不复存在，不看它的时候又变成了将来状态。这种不断变化、不断更新的“现在”的时间维度，也是无限的一种表现。镜画中的影像无论是人、物或者动物，都仅代表过去的一个影像。我们所看到的影像不断变化，而留在镜面的影像仅属于过去的一段记忆。所以镜画有四维维度，影像的不断变化使我们同时感受到时间的三个结点，即过去、现在和将来。也正因如此，镜画的特殊性所反应的并不是我自己的情感，感受或者想法，而是反应观看者所感受到所有经验的结合，是现象学上的综合体现。观看镜画的观众实际上都参与到这种存在主义现象学当中，直接参与并感受到世界的存在。这些作品所展现的并不仅是我自己，而是整个世界的特征。所以，镜画的整个体验过程，具有很强的双重性——你和我，这一双重性带来第三个要素——在你和我的参与中形成了我们。',\n",
       " '',\n",
       " '在常青画廊个展中呈现的镜画作品，上面的影像来自去年在北京拍摄的一些人物生活片断，代表我在中国的种种体验。我很开心的是，作为一个艺术家，我能把个人生活的各个不同时期与社会，与世界不同时代之间建立起密切的联系。这并不仅仅是我个人的作品，更重要的是作品能够把我们联结在一起。我打算将中国镜画带到世界不同的地方，也希望把在其他地方创作的镜画带到中国来。',\n",
       " '',\n",
       " '“第三天堂”符号同样展示了刚才所提到的这种双重性，这个双重性也体现在《镜笼》这件作品中。这件作品准确的名字应该是“破碎的镜片”，它来自于一个数学的公式。这件作品一开始呈现为一面单独的镜子，代表一个0。因为镜子单独存在的时候只是反射外界的物体，没有任何自己的存在，所以是0或者相当于空白。但是这面单独的镜子或者0却可以收集或者反射所有周边的一切，就像在从空无当中拥有一切。然后我把单面的镜子对半分开，相当于把一个0分成了两半，所以诞生了两个1。一个1没有任何存在的价值。但把一块镜面分开以后产生等同的两面镜子1和1，因此把0分开便形成了两个1。如果我们把镜子以一定角度摆放的时候可以在两个镜子当中看到新的影像反射出来。随着两面镜子的夹角的改变，当中所反射的镜子影像也在不断的变化，不断的增多。理论上，这两面镜子的夹角越小，所产生的镜像越多。当夹角为0，两面镜子对贴的时候便形成了无限循环的影像。所以在这个过程中，我们可以将单面的完整的镜子理解为0，一面镜子分割为对等的两半形成了1+1，然后两面镜子折影出从一个到无限多的反射。如果我们可以将镜子引申到人，可以将两面镜子想象为一个男人和女人，两者的结合产生第三个元素就是他们的后代。两个镜面夹角越小所产生的反射越多，如同人的创造力可以达到无限的延伸。',\n",
       " '',\n",
       " '对镜面反射的探索是一种虚拟的探索，可以同样在人类社会或者生物上找到相应的印证。细胞分裂是一个非常形象的例子，一个细胞分为两个，两个分为四个，四个分为八个，由此无限循环下去。再如我自己的艺术探索从最早的自画像到镜面自画像，反应的不再仅仅是自己，而是整个世界，然后到不断繁衍的生物现象学现象。',\n",
       " '',\n",
       " '而“第三天堂”符号再现了我创作的演变过程，也等同于基于数字“三”的动态学理论。当我提出“第三天堂”这一概念的时候，正是觉得我们今天所生活的这个世界或者社会，便处在一个非常微妙的时刻。在“第三天堂”的概念中，第一天堂指人类与自然完全和谐，完全沉醉于自然的状态。而在这个符号中的第二个圈代表人类人造的世界，人以智力与智行在自然之外所营造的一切。当下这个人类智慧或者能力几乎登峰造极的时代，便可以称之为第二天堂。它看似非常完美，给我们带来无限可能，另一方面却对人、自然甚至地球带来很多不利的方面。第二天堂可以说是科技和物质无限进步的时代，与此同时也需要相应的控制，与自然达到新的平衡。而这一新的平衡，即是“第三天堂”。这一符号已经以不同形式在世界各地展出，比如卢浮宫，意大利著名的阿西西橄榄林，以及日内瓦联合国建筑外，该符号用代表联合国所有成员国的石头组成。',\n",
       " '',\n",
       " '由黑色、红色线条组成的符号，则表示有限的人生与无限的世界、无限的存在之间的辩证关系。无论是这次讲座照片上还是刚才幻灯片当中都能看到我举锤打破镜面的举动。这个行为以一个锤子把镜面打破，实际上跟一面镜子垂直分成两面是同一个动机，同一个行为，一分为二的镜子形成规则的形象，一面完整的镜子打碎以后，象征人类社会由每一个个体或者群体组成，碎片中的反射，代表人与人之间或者不同社团之间的关系。',\n",
       " '',\n",
       " '今天我一直强调在镜子之间反复出现的现象学，这个现象学包含整个人类。单独一面镜子没有任何意义，一分为二得到两个不同元素并产生互动的过程代表人类社会，包括政治活动的发展演变。在政治层面上，我们正在经历建立第三天堂的新平衡的阶段——我们需要在自然与人造之间达到一个全新的平衡，以保证人类社会能够形成一种全新的政治格局。在这个格局之下，艺术不再是少数或者精英的艺术，而是大众的艺术。',\n",
       " '',\n",
       " '1+1的这种格局，在政治上可以想象为两种绝然相对的政治统治形式——一种是独裁，一种是无政府。无政府即是没有性别隔离的、去组织化的一种社会秩序。两者中间是什么？将独裁与无政府相结合能创造什么呢？民主。一直以来民主都是人类社会的梦想，也仍仅是个梦想。无论是资本主义系还是共产主义政府都在谈论民主，但真正的民主并没有产生。我们生活的世界中，真正的民主仍然是一个未被实现的梦想。现在，从艺术出发， 我们试着以对立双方——比如资本主义与共产主义——的团结来实现“第三天堂”。我们能感受到真正实现民主梦想的重要性。',\n",
       " '',\n",
       " '为什么民主如此难以实现？因为民主的概念源自希腊文明，demos意为人民，kratos意为权力。人民的权力不可能实现，因为社会是有巨大数量、没有个体权力的人民组成的。于是我们试着创造一个新的定义，一个新的词语来统一两个希腊概念，即代表人民的demos和代表实践的praxis——人民实践。人民的实践并非来自个体的权力获得，而是社会各领域中的群体获得权力。正像一加一等于三的概念，生活的两个领域可以找到平衡，并创造新的事物。',\n",
       " '',\n",
       " '从镜子“划分与倍增”的系统延伸，社会的各部分也可以互相反射，并找到在离散时不可预见的共同目标。在古巴，我们正与来自不同社会领域的机构、组织及个体一起，进行一项充分的社会实践。比如探讨各自社会领域中互相关联之实践需求的10人圆桌论坛。这一示例并不是基于政治团体形成的意识形态系统，而是来自扎根于活跃社会组织中的实践体系。 所有的社会领域与活动依然并不依赖政府形态而存在。我们要实现跨领域的连接，才能创造能够政治化运转的社会。',\n",
       " '',\n",
       " '我们所探讨的实践并不特指一个具体的国家，而是联合国（“第三天堂”符号也到访过其总部），及其提出的17个人类社会可持续发展的目标。所有的这些社会领域已经真实存在，只不过我们现在尝试以一种超脱政治理念的新方式，基于人们现实的需求来达到我们所希望设定的目标。这种尝试恰恰来自我在比耶拉建立的艺术城市，“第三天堂”正式从这里启动。“第三天堂”在全世界很多国家建立了或大或小的艺术大使馆，在这里“人民实践”活动正在缓慢地发展。因此，我们旨在建立一个与现有政治系统无关的社会进程，以艺术为起点，以社会的转变为目标。艺术与科学的学术研究正是这一新社会的基石。',\n",
       " '',\n",
       " '',\n",
       " '    ']"
      ]
     },
     "execution_count": 135,
     "metadata": {},
     "output_type": "execute_result"
    }
   ],
   "source": [
    "[x.text for x in doc.paragraphs]"
   ]
  },
  {
   "cell_type": "code",
   "execution_count": null,
   "metadata": {},
   "outputs": [],
   "source": []
  }
 ],
 "metadata": {
  "kernelspec": {
   "display_name": "NLPkernel",
   "language": "python",
   "name": "nlpkernel"
  },
  "language_info": {
   "codemirror_mode": {
    "name": "ipython",
    "version": 3
   },
   "file_extension": ".py",
   "mimetype": "text/x-python",
   "name": "python",
   "nbconvert_exporter": "python",
   "pygments_lexer": "ipython3",
   "version": "3.6.5"
  }
 },
 "nbformat": 4,
 "nbformat_minor": 2
}
