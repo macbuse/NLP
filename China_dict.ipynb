{
 "cells": [
  {
   "cell_type": "markdown",
   "metadata": {},
   "source": [
    "# Mandarin dictionnary\n",
    "\n",
    "\n",
    "On going \n"
   ]
  },
  {
   "cell_type": "code",
   "execution_count": 381,
   "metadata": {},
   "outputs": [],
   "source": [
    "import pickle\n",
    "import re\n",
    "\n",
    "from docx import Document\n",
    "\n",
    "import jieba as ji\n",
    "import jieba.analyse as ja\n",
    "\n",
    "__dict_path = '/Users/macbuse/jieba-master/extra_dict/'\n",
    "ja.set_stop_words(__dict_path + \"stop_words.txt\")\n",
    "ja.set_idf_path(__dict_path + \"../extra_dict/idf.txt.big\");\n",
    "\n",
    "__dict_path = '/Users/macbuse/jieba-master/extra_dict'\n",
    "\n",
    "ep = re.compile('a|e|i|o|u')\n",
    "\n"
   ]
  },
  {
   "cell_type": "code",
   "execution_count": null,
   "metadata": {
    "collapsed": true
   },
   "outputs": [],
   "source": [
    "class MyWords(dict):\n",
    "    \n",
    "    def __init__(self, other = None):\n",
    "        self.ordered_keys = []\n",
    "        self.src = 'm3e_word_pinyin_meaning.pkl'\n",
    "    \n",
    "    def tidy(self):\n",
    "        LL = self.keys()\n",
    "        LL.sort()\n",
    "        self.ordered_keys = LL\n",
    "        \n",
    "    def show_all(self):\n",
    "        self.tidy()\n",
    "        for x in self.ordered_keys:\n",
    "            print self.show(x)\n",
    "            \n",
    "    def look_up(self, other):\n",
    "        return [self.show(x) for x in other if x in self]\n",
    "    \n",
    "    def wrap(self, entity):\n",
    "        wrapper = '<a class=\"test\" href=\"#\" data-toggle=\"tooltip\"  data-placement=\"top\" title=\"%s\">%s </a>'\n",
    "        if entity in self and self[entity]: \n",
    "            payload = '%s : %s' %self[entity]\n",
    "            if isinstance(payload, str):\n",
    "                payload = unicode(payload,'utf8')\n",
    "            return wrapper%(payload, entity)\n",
    "        else:\n",
    "            return entity\n",
    "         \n",
    "    def missing(self,other):\n",
    "        return [x for x in other if x not in self]\n",
    "    \n",
    "    def load(self):\n",
    "        tt = pickle.load(file(self.src,'r') ) \n",
    "        self.update(tt)\n",
    "        \n",
    "    def dump(self):\n",
    "        #not nice but we want to get it back one day\n",
    "        #even if we have modified the class definition so...\n",
    "        copy = {}\n",
    "        copy.update(self)\n",
    "        with file(self.src, 'wb') as fp:\n",
    "            pickle.dump(copy, fp)\n",
    "         \n",
    "    def show(self, key):\n",
    "        if not self[key]: return key + ' None'\n",
    "        payload = ' %s : %s' %self[key]\n",
    "        if isinstance(payload, str):\n",
    "            payload = unicode(' %s : %s' %self[key], 'utf8')\n",
    "        return key + payload\n",
    "    \n",
    "def txt2web(paras=[''],\n",
    "            my_words=MyWords(),\n",
    "            fn='test_tool.html'):\n",
    "    #[ x.text for x in doc.paragraphs]\n",
    "    html = []\n",
    "    for para in paras:\n",
    "        tokens = ji.tokenize( para)\n",
    "        html.append([ my_words.wrap( x[0]) for x in tokens])\n",
    "\n",
    "    html = [ '<p>%s</p>\\n'%' '.join( para) for para in html]\n",
    "    html_code = ''.join( html)\n",
    "    html_code = html_wrapper%html_code\n",
    "    with codecs.open( fn, 'w', encoding='utf8') as ff:\n",
    "        ff.write( html_code)\n"
   ]
  },
  {
   "cell_type": "code",
   "execution_count": 3,
   "metadata": {
    "collapsed": true
   },
   "outputs": [],
   "source": [
    "import sys  \n",
    "reload(sys)  \n",
    "sys.setdefaultencoding('utf8')"
   ]
  },
  {
   "cell_type": "code",
   "execution_count": null,
   "metadata": {
    "collapsed": true
   },
   "outputs": [],
   "source": [
    "doc = Document('/Users/macbuse/Downloads/ZHU_TRANSLATIONS/holler_CN.docx')\n",
    "doc = Document('/Users/macbuse/Downloads/ZHU_TRANSLATIONS/汪化 灵魂深处的生长 .docx')"
   ]
  },
  {
   "cell_type": "code",
   "execution_count": 54,
   "metadata": {},
   "outputs": [
    {
     "name": "stdout",
     "output_type": "stream",
     "text": [
      "汪化 灵魂深处的生长 Growth from depth of the soul\n",
      "------------------------------------------------------------\n"
     ]
    }
   ],
   "source": [
    "for x in doc.paragraphs[:1]:\n",
    "    print x.text\n",
    "    print '-'*60"
   ]
  },
  {
   "cell_type": "code",
   "execution_count": 396,
   "metadata": {},
   "outputs": [
    {
     "name": "stdout",
     "output_type": "stream",
     "text": [
      "在\t早期\t的\t艺术作品\t中\t，\t你\t显示\t对\t数学\t"
     ]
    }
   ],
   "source": [
    "result = ji.tokenize(doc.paragraphs[2].text)\n",
    "for tk in list(result)[:10]:\n",
    "    print u\"%s\\t\" % tk[0],"
   ]
  },
  {
   "cell_type": "code",
   "execution_count": 409,
   "metadata": {},
   "outputs": [],
   "source": [
    "#content = '\\n'.join( [para.text for para in doc.paragraphs])\n",
    "\n",
    "def get_words(txt):\n",
    "    topK = 100\n",
    "    tags = ja.extract_tags(txt, topK=topK)\n",
    "\n",
    "    # if it is a number or english then kill it\n",
    "    p_kill = re.compile('(\\d+)|(a|e|i|o|u)')\n",
    "    #always convert to lower\n",
    "    return [x for x in tags if not p_kill.search(x.lower()) ]\n"
   ]
  },
  {
   "cell_type": "code",
   "execution_count": 408,
   "metadata": {},
   "outputs": [
    {
     "name": "stdout",
     "output_type": "stream",
     "text": [
      "“张帆” 今格空间 展览现场 张帆的《急就章》是一组对现在说“不”的作品，这个“不”的核心，在于他认为现在的抽象画依赖劳作量赋予意义，或者把劳作量置换成一种观念，“靠巨大的劳作量和劳作时间来完成一张作\n"
     ]
    }
   ],
   "source": [
    "print ' '.join(paras)[:100]"
   ]
  },
  {
   "cell_type": "code",
   "execution_count": 412,
   "metadata": {},
   "outputs": [
    {
     "name": "stdout",
     "output_type": "stream",
     "text": [
      "一种 yī zhǒng : one kind of, one type of\n",
      "这个 zhè ge : this, this one\n",
      "方式 fāng shì : way, manner, style, mode, pattern, \n",
      "这种 zhè zhǒng : this, this kind of, this sort of, this type of\n",
      "系列 xì liè : series, set\n",
      "过程 guò chéng : course of events, process, \n",
      "抽象 chōu xiàng : abstract, abstraction\n",
      "一个 xià yī ge : the next one\n",
      "我们 wǒ men : we, us, ourselves, our\n",
      "发展 fā zhǎn : development, growth, to develop, to grow, to expand\n",
      "自我 zì wǒ : self-, ego (psychology)\n",
      "作品 zuò pǐn : work (of art), opus, \n",
      "所以 suǒ yǐ : therefore, as a result, so, the reason why\n",
      "中国 Zhōng guó : China\n",
      "线条 xiàn tiáo : line (in drawing, calligraphy etc), the lines or contours of a three-dimensional object (hairstyle, clothing, car etc)\n",
      "这些 zhè xiē : these\n",
      "只有 zhǐ yǒu : only\n",
      "可能 kě néng : might (happen), possible, probable, possibility, probability, maybe, perhaps\n",
      "展览 zhǎn lǎn : to put on display, to exhibit, exhibition, show, \n",
      "传统 chuán tǒng : tradition, traditional, convention, conventional\n",
      "早期 zǎo qī : early period, early phase, early stage\n",
      "当代艺术 None\n",
      "一切 yī qiè : everything, every, all\n",
      "艺术家 yì shù jiā : artist, \n",
      "接近 jiē jìn : to approach, to get close to\n",
      "价值 jià zhí : value, worth, fig. values (ethical, cultural etc)\n",
      "设计 shè jì : plan, design, to design, to plan\n",
      "以及 yǐ jí : as well as, too, and\n",
      "视觉 shì jué : sight, vision, visual\n",
      "创作 chuàng zuò : to create, to produce, to write, creative work, creation, \n",
      "空间 kōng jiān : space, \n",
      "这样 zhè yàng : this kind of, so, this way, like this, such\n"
     ]
    }
   ],
   "source": [
    "tokens = get_words(' '.join(paras) )\n",
    "for x in tt.look_up(tokens):\n",
    "    print x"
   ]
  },
  {
   "cell_type": "code",
   "execution_count": 414,
   "metadata": {},
   "outputs": [
    {
     "name": "stdout",
     "output_type": "stream",
     "text": [
      "张帆 绘画 布面 劳作 急就章 自叙 属于 成为 山林 现在 逻辑 危险 视为 奇观 基座 气息 仍然 形式主义 水图 抽象画 一张 书写 丙烯 质感 油画 采薇 符号 缓慢 似乎 高度 引自 僵尸 命题 苏轼 废品 存在 几个 有着 古典 几乎 真的 境界 身边 某个 容易 变化 格子 今格 设想 还是 消失 国际 画面 摹拟 之三 它们 完成 占据 禁锢\n"
     ]
    }
   ],
   "source": [
    "print ' '.join(tt.missing(tokens) )"
   ]
  },
  {
   "cell_type": "markdown",
   "metadata": {},
   "source": [
    "This is a standard data collector :\n",
    "\n",
    "1. should check the current dictionnary before making a request\n",
    "2. the utf8 has to be encoded for the request string"
   ]
  },
  {
   "cell_type": "code",
   "execution_count": 415,
   "metadata": {},
   "outputs": [],
   "source": [
    "import urllib2\n",
    "\n",
    "def yabla_lookup(word_bag = []):\n",
    "    pdef =  re.compile(ur'class=\"definition\">.*?=\"pinyin\">(.*?)<.*?=\"meaning\">(.*?)<',re.DOTALL)\n",
    "    stuff = {x:'' for x in word_bag} \n",
    "\n",
    "    for word in word_bag:\n",
    "        print word,\n",
    "        qq = urllib2.quote(word.encode('utf8'))\n",
    "        base_url = u'https://chinese.yabla.com/chinese-english-pinyin-dictionary.php?define='\n",
    "        data = urllib2.urlopen(base_url + qq).read()\n",
    "        stuff[word] = pdef.search(data)\n",
    "    return stuff\n",
    "\n",
    "def clean(txt, meaning=False):\n",
    "    if meaning : return txt.split('\\n')[0] + ' '\n",
    "    pinyin, meanings = y.group(1), y.group(2)\n",
    "    meanings = meanings.split('CL:')[0] \n",
    "    #there is a trailing \\n so strip() it \n",
    "    return (pinyin, meanings.strip().replace('\\n',', ') )"
   ]
  },
  {
   "cell_type": "code",
   "execution_count": 416,
   "metadata": {},
   "outputs": [
    {
     "name": "stdout",
     "output_type": "stream",
     "text": [
      "张帆 绘画 布面 劳作 急就章 自叙 属于 成为 山林 现在 逻辑 危险 视为 奇观 基座 气息 仍然 形式主义 水图 抽象画 一张 书写 丙烯 质感 油画 采薇 符号 缓慢 似乎 高度 引自 僵尸 命题 苏轼 废品 存在 几个 有着 古典 几乎 真的 境界 身边 某个 容易 变化 格子 今格 设想 还是 消失 国际 画面 摹拟 之三 它们 完成 占据 禁锢\n"
     ]
    }
   ],
   "source": [
    "new_stuff = yabla_lookup(tt.missing( tokens)) "
   ]
  },
  {
   "cell_type": "code",
   "execution_count": 417,
   "metadata": {},
   "outputs": [
    {
     "name": "stdout",
     "output_type": "stream",
     "text": [
      "山林\n",
      "采薇\n",
      "引自\n",
      "一张\n",
      "真的\n",
      "布面\n",
      "急就章\n",
      "今格\n",
      "某个\n",
      "水图\n",
      "张帆\n",
      "自叙\n",
      "抽象画\n"
     ]
    }
   ],
   "source": [
    "failed = []\n",
    "for x,y in new_stuff.items():\n",
    "    try:\n",
    "        new_stuff[x] = clean(y)\n",
    "    except:\n",
    "        failed.append(x)\n",
    "        \n",
    "print '\\n'.join(failed)\n",
    "    "
   ]
  },
  {
   "cell_type": "markdown",
   "metadata": {},
   "source": [
    "So with what is left we are going to have to do some **mechanical turk**\n",
    "\n",
    "Trouble is that google translate uses seriously obfuscated javascript...."
   ]
  },
  {
   "cell_type": "code",
   "execution_count": 418,
   "metadata": {},
   "outputs": [],
   "source": [
    "src = u'''山林\n",
    "采薇\n",
    "引自\n",
    "一张\n",
    "真的\n",
    "布面\n",
    "今格\n",
    "水图\n",
    "自叙\n",
    "抽象画'''\n",
    "\n",
    "pyn = u'''Shānlín\n",
    "cǎi wēi\n",
    "yǐn zì\n",
    "yī zhāng\n",
    "zhēn de\n",
    "bù miàn\n",
    "jīn gé\n",
    "shuǐ tú\n",
    "zìxù\n",
    "chōuxiàng huà'''\n",
    "\n",
    "tgt = '''Mountain forest\n",
    "Petch\n",
    "cited from\n",
    "One sheet\n",
    "Really\n",
    "Cloth surface\n",
    "In this case\n",
    "Water map\n",
    "Self-description\n",
    "Abstract painting'''\n",
    "\n",
    "payload = zip([ x.lower() for x in pyn.split('\\n') ],\n",
    "[ x.lower() for x in tgt.split('\\n') ])\n",
    "for w, dd in zip( src.split('\\n'), payload):\n",
    "    new_stuff[w] = dd\n"
   ]
  },
  {
   "cell_type": "markdown",
   "metadata": {},
   "source": [
    "Keep the dictionnary clean !! \n",
    "There is a risk of getting str from the clipboard "
   ]
  },
  {
   "cell_type": "code",
   "execution_count": 419,
   "metadata": {},
   "outputs": [],
   "source": [
    "for x in new_stuff.keys():\n",
    "    if isinstance(x,str):\n",
    "        del stuff[x]\n",
    "\n",
    "for x in [u'苏摩 苏摩']:\n",
    "    if x in new_stuff:\n",
    "        del new_stuff[x]"
   ]
  },
  {
   "cell_type": "code",
   "execution_count": 423,
   "metadata": {},
   "outputs": [
    {
     "name": "stdout",
     "output_type": "stream",
     "text": [
      " 消失 xiāo shī to disappear, to fade away\n",
      "山林 shānlín mountain forest\n",
      "劳作 láo zuò work, manual labor\n",
      "成为 chéng wéi to become, to turn into\n",
      "采薇 cǎi wēi petch\n",
      "画面 huà miàn scene, tableau, picture, image, screen (displayed by a computer), (motion picture) frame, field of view\n",
      "几个 jǐ ge a few, several, how many\n",
      "仍然 réng rán still, yet\n",
      "属于 shǔ yú to be classified as, to belong to, to be part of\n",
      "引自 yǐn zì cited from\n",
      "有着 yǒu zhe to have, to possess\n",
      "缓慢 huǎn màn slow, slow-moving\n",
      "存在 cún zài to exist, to be, existence\n",
      "变化 biàn huà change, variation, to change, to vary\n",
      "一张 yī zhāng one sheet\n",
      "真的 zhēn de really\n",
      "僵尸 jiāng shī gyonshi, jiang shi, Chinese vampire, zombie\n",
      "它们 tā men they (for inanimate objects)\n",
      "布面 bù miàn cloth surface\n",
      "之三 sì fēn zhī sān three quarters\n",
      "符号 fú hào symbol, mark, sign\n",
      "高度 gāo dù height, altitude, elevation, high degree, highly\n",
      "命题 mìng tí proposition (logic, math.), to assign an essay topic\n",
      "绘画 huì huà drawing, painting\n",
      "完成 wán chéng to complete, to accomplish\n",
      "急就章"
     ]
    },
    {
     "ename": "TypeError",
     "evalue": "not enough arguments for format string",
     "output_type": "error",
     "traceback": [
      "\u001b[0;31m---------------------------------------------------------------------------\u001b[0m",
      "\u001b[0;31mTypeError\u001b[0m                                 Traceback (most recent call last)",
      "\u001b[0;32m<ipython-input-423-1664d6f8fd16>\u001b[0m in \u001b[0;36m<module>\u001b[0;34m()\u001b[0m\n\u001b[1;32m      1\u001b[0m \u001b[0;32mfor\u001b[0m \u001b[0mx\u001b[0m\u001b[0;34m,\u001b[0m\u001b[0my\u001b[0m \u001b[0;32min\u001b[0m \u001b[0mnew_stuff\u001b[0m\u001b[0;34m.\u001b[0m\u001b[0mitems\u001b[0m\u001b[0;34m(\u001b[0m\u001b[0;34m)\u001b[0m\u001b[0;34m:\u001b[0m\u001b[0;34m\u001b[0m\u001b[0m\n\u001b[0;32m----> 2\u001b[0;31m     \u001b[0;32mprint\u001b[0m \u001b[0mx\u001b[0m\u001b[0;34m,\u001b[0m \u001b[0;34m'%s %s'\u001b[0m \u001b[0;34m%\u001b[0m\u001b[0my\u001b[0m\u001b[0;34m\u001b[0m\u001b[0m\n\u001b[0m",
      "\u001b[0;31mTypeError\u001b[0m: not enough arguments for format string"
     ]
    }
   ],
   "source": [
    "for x,y in new_stuff.items():\n",
    "    print x, '%s %s' %y"
   ]
  },
  {
   "cell_type": "code",
   "execution_count": 25,
   "metadata": {},
   "outputs": [],
   "source": [
    "def multiple_replace(text, adict):\n",
    "    rx = re.compile('|'.join(map(re.escape, adict)))\n",
    "    def one_xlat(match):\n",
    "        return adict[match.group(0)]\n",
    "    return rx.sub(one_xlat, text)"
   ]
  },
  {
   "cell_type": "code",
   "execution_count": 248,
   "metadata": {},
   "outputs": [],
   "source": [
    "#multiple_replace(content, m2ex)"
   ]
  },
  {
   "cell_type": "code",
   "execution_count": 49,
   "metadata": {},
   "outputs": [
    {
     "data": {
      "text/plain": [
       "[7, 0, 20, 390, 0, 222, 5, 275, 355, 0, 186, 5]"
      ]
     },
     "execution_count": 49,
     "metadata": {},
     "output_type": "execute_result"
    }
   ],
   "source": [
    "content2 = '\\n'.join(x.text for x in doc.paragraphs \n",
    "                             if x.text and len(ep.findall(x.text) ) < 30 )\n",
    "#print content2\n",
    "\n",
    "[ len(ep.findall(x.text) )for x in doc.paragraphs  if x.text] \n"
   ]
  },
  {
   "cell_type": "code",
   "execution_count": 52,
   "metadata": {},
   "outputs": [
    {
     "data": {
      "text/plain": [
       "[0.175,\n",
       " 0.0,\n",
       " 0.055865921787709494,\n",
       " 0.31630170316301703,\n",
       " 0.0,\n",
       " 0.2817258883248731,\n",
       " 0.01845018450184502,\n",
       " 0.29411764705882354,\n",
       " 0.281076801266825,\n",
       " 0.0,\n",
       " 0.2957074721780604,\n",
       " 0.18518518518518517]"
      ]
     },
     "execution_count": 52,
     "metadata": {},
     "output_type": "execute_result"
    }
   ],
   "source": [
    "[ len(ep.findall(x.text)) / float(len(x.text)) for x in doc.paragraphs  if x.text]"
   ]
  },
  {
   "cell_type": "code",
   "execution_count": 31,
   "metadata": {},
   "outputs": [
    {
     "name": "stdout",
     "output_type": "stream",
     "text": [
      "\n",
      "展期：2018.03.17 – 2018.06.17\n",
      "艺术家：吉姆·坎贝尔(Jim Campbell),张培力\n",
      "策展人：张尕\n",
      "地点：新时线媒体艺术中心（CAC）上海市普陀区莫干山路50号18号楼\n",
      "开\n"
     ]
    }
   ],
   "source": [
    "print contents2[:100]"
   ]
  },
  {
   "cell_type": "code",
   "execution_count": 376,
   "metadata": {},
   "outputs": [],
   "source": [
    "from bs4 import BeautifulSoup\n",
    "import urllib2\n",
    "\n",
    "#data = urllib2.urlopen('http://art.china.cn/tongzhi/2018-03/13/content_40249473.htm').read()\n",
    "\n",
    "#data = urllib2.urlopen('http://art.china.cn/ysjt/2017-09/20/content_40022118.htm').read()\n",
    "#data = urllib2.urlopen('http://art.china.cn/haiwai/2016-05/06/content_8753835.htm').read()\n",
    "data = urllib2.urlopen('http://mp.weixin.qq.com/s/FIBpmy2GFPRMvXFNCd8lLg').read()\n",
    "\n",
    "def extract_contents_ca(html):\n",
    "    '''extract title, author and text \n",
    "       return dictionary'''\n",
    "    soup = BeautifulSoup(html, 'lxml')\n",
    "    payload = soup.find('div', {'class' : 'content'})\n",
    "    txt = [p.text for p in payload.find_all('p')]   \n",
    "    return '\\n'.join(txt)\n",
    "\n",
    "def extract_contents(html):\n",
    "    '''extract title, author and text \n",
    "       return dictionary'''\n",
    "    soup = BeautifulSoup(html, 'lxml')\n",
    "    payload = soup.find('div', {'class' : \"rich_media_content \"})\n",
    "    paras = [p.text for p in payload.find_all('p')]   \n",
    "    return paras\n",
    "\n",
    "contents2 = extract_contents(data)\n",
    "   "
   ]
  },
  {
   "cell_type": "code",
   "execution_count": 391,
   "metadata": {},
   "outputs": [],
   "source": [
    "paras = [ x for x in contents2 if len(x)>0 and len(ep.findall(x.lower()))/float(len(x)) <.2 ]"
   ]
  },
  {
   "cell_type": "code",
   "execution_count": 392,
   "metadata": {},
   "outputs": [
    {
     "name": "stdout",
     "output_type": "stream",
     "text": [
      "“张帆” 今格空间 展览现场\n",
      "张帆的《急就章》是一组对现在说“不”的作品，这个“不”的核心，在于他认为现在的抽象画依赖劳作量赋予意义，或者把劳作量置换成一种观念，“靠巨大的劳作量和劳作时间来完成一张作品的这种方式属于奇观式的绘画”，“理论上说，这种绘画任何人都可以完成，只需要对一个物体反复进行一种简单机械的操作就可以成就一种奇观”，这些奇观企图掩盖这样一个事实：精神性逐渐丧失，抽象画已沦为平面构成和工业设计的玩物。\n",
      " \n",
      "仔细想一想我们身边的状况，似乎恰如他反对的那样，几乎每天都有大量的抽象作品被生产出来，它们拥有称得上精耕细作的外观和质感，特定的个人符号和图式，即使在后一方面不那么突出，但通过长期的经营，终得以在某个阶段固执地占据了我们的记忆，当那一天到来的时候，这个画家就宣告成立了——这种方法论不止在我们身边生效，也在国际通行；“僵尸形式主义”这个术语的出现，正是对那些“把基于过程的抽象画搞得如此让人难以忍受的”艺术家的明确反讽。[1]\n",
      "张帆，《急就章第六组之三》，布面丙烯，200x200cmx2，2017\n",
      "不过，仅仅说“不”是容易的，也是危险的，危险在于：当你置身于一种对立性的逻辑中，自我有可能随对立面一起缩减。将这种危险阐释得更具体一些：在你锐化社会学或艺术现象学的某些命题的同时，你的思维和表达很容易会被圈禁其中，这是一种反向的禁锢，但仍然是禁锢，它提供了对抗的激情，但并不保证一个主体进行真正的自我建构——幸而，他不只是对现在说“不”，也是在对过去的自己说“不”，并且，他赖以说“不”的基座是我们渴望赎回的传统。\n",
      " \n",
      "对于抽象艺术，张帆曾经抱有某种现代主义式的骄傲，他早期的格子系列耽留于那种经典框架内，以追随巴尼特·纽曼、罗斯科等人的方式，通过垂直的结构和优良的质地，来体现他“对庄重，崇高，含蓄的绘画追求”。设想他一直循沿这种做法，纵然会错过一、两次抽象在中国的热潮，也可以缓慢地占据一席之地，成为重要展览或收藏拼图的一角，但是，当他的认知产生变化之后，他几乎在另启炉灶，这并非缺乏耐心的表现，也不应该被视为一幕针对他人成功的复仇剧，原因只有一个：基座的重置——他想要在中国画传统中发掘抽象的可能。\n",
      " \n",
      "张帆，《覆盖在白色，黑色表面的灰色以及棕色的习作之二》，布面油画，400x250cm，2009\n",
      "《溪山林泉》和《水图》系列展示了他如何摒弃愉悦视觉的装饰感，向古典回溯，而《自叙帖》系列的出现，则表明他放弃了图像性的暗示，更进一步地接近北宋苏轼所倡导的“书法性的表现主义”。[2]简单地说，在最近的七、八年间，他以自我训练的方式缓慢地重演古典艺术史，对此他有过清楚的表述：我曾经说过我在作品中与宋画之间是一种半推半就的关系，我的初衷是消除形式。《溪山林泉》和《水图》这两个系列是我依照我的绘画逻辑发展出来的结果，从早期纵横交错的格子，到只有垂直结构的坚硬质感，再到我彻底消灭了画面中几何意义上的秩序，以一种被几个层次依次覆盖并留白的物理秩序来建立出另一种抽象绘画的结构，通过这几个阶段的发展，当一切直观上带有视觉符号意味的形式的消失，唯一可被感受到的就只有气息，这种气息隐约浮现和弥漫出一种五代北宋的绘画气质，所以我用了《溪山林泉》这个标题来进行代指。由于这个系列的朴素的描绘性的绘画方式还是无法尽情的言志达意，而我希望可以把所有的信息凝聚到一时一刻，把身体状态和情感状态精确的用一瞬间表达出来，所以《水图》开始有了一点点的书写方式存在。到了《采薇》和《自叙帖》，则完全是主动的使用这种书写性的绘画方式了，这个过程与中国绘画发展的逻辑也是相似的。[3]\n",
      "张帆，《溪山林泉》，布面油画，150x260cm，2010\n",
      "张帆，《溪山林泉》，布面油画，150x150cm，2010\n",
      "这个过程慢慢地归结到“气息”（类似气韵说）以及“笔墨就是一切”上来，可谓观念性的复古。当书写性成为他的阶段性命题之后，他早期作品中整饬、华丽、工笔式的描画感和设计性消失了，代之以焦灼、粗放的写意性笔触，这在《采薇》和《自叙帖》中有着明显的体现，如果说在经历变化的整个过程中，成为一幅画的意识仍然盘踞在他的大脑中，《急就章》则是“溢而为书”，[4]要成为一张帖，这个系列的创作过程如题所示，速度极快，一张四米乘两米的大画在短短一个小时之内画完，横贯画面的成排线条摹拟了古代行草的走势，线条虽不具字形，但有着连绵起伏、一气呵成的意味，他的设想就在于线条“相互之间协调的节奏感，细节，质感，情绪，律动等等元素。这些元素都是在书写的过程中瞬间迸发出来的”。\n",
      "张帆，《急就章第七组之一》，布面丙烯，160x200cm，2017\n",
      "张帆，《2015年的自叙帖之三》，布面丙烯，150x180cm，2015\n",
      "在这样的工作方式中，劳作量被驱逐到画面之外，它不再能充当价值交换的堂皇说辞，而是恢复成应有的地位：蜷伏在画室角落里有待清除的成百上千张废品里——它属于日常的“渐修”，而被视为完成的作品则属于某种意义上的“顿悟”和到达。当然，我会试图多理解《急就章》一些，就这些被视为完成的作品而言，它们仍然属于一种高度理想化的摹拟，因为，与废品相比落差固然存在，但说到底它们还是假设了自我的更高境界，而非真的从笔墨、技艺和境界的意义上达到了某个绝对的高度，所以，它们似乎始终透出那么一种顽劣劲儿——并非真的很牢固地占据了古典主义的基座，但无疑像一种令人不安的箭头，冒着形式主义和仿生学的嫌疑，指示出传统中那些接近完美的创造物及其转化的可能。\n",
      " \n",
      "2018年3月\n",
      " \n",
      "[1] 引自NicholasChittenden Morgan《僵尸形式主义，1970—2016》一文，刊载于2016年12月7日Artforum中文网。\n",
      " \n",
      "[2] 引自毕淑珍（MaggieBickford）《墨梅》（Ink Plum）第六章，江苏人民出版社2012年5月版。\n",
      " \n",
      "[3] 引自今格空间对张帆的访谈。\n",
      " \n",
      "[4] 引自苏轼《文与可画墨竹屏风赞》。\n",
      " \n",
      " \n",
      " \n",
      " \n",
      " \n",
      " \n",
      " \n",
      " \n",
      "March, 2018\n",
      "  \n",
      " \n",
      " \n",
      " \n",
      "GINKGO SPACE成立于2014年。通过展览、出版、驻留等多种方式，建立具有广泛影响力的开放平台，GINKGO SPACE积极参与国际当代艺术的发展进程，探索亚洲当代艺术的独特美学价值和文化身份，持续关注中国艺术家的多元创作。\n",
      "需要更多信息，请联系我们\n",
      " +86 10 5762 6135\n",
      "开放时间  10:30-17:30 周二至周六（Tues-Sat）\n",
      "北京市朝阳区酒仙桥路4号院 798艺术区65幢\n"
     ]
    }
   ],
   "source": [
    "txt = '\\n'.join(paras)\n",
    "print txt\n",
    "    "
   ]
  },
  {
   "cell_type": "code",
   "execution_count": 241,
   "metadata": {},
   "outputs": [
    {
     "name": "stdout",
     "output_type": "stream",
     "text": [
      "观众 guān zhòng : spectators, audience, visitors (to an exhibition etc)\n",
      "装置 zhuāng zhì : to install, installation, equipment, system, unit, device\n",
      "一个 xià yī ge : the next one\n",
      "作品 zuò pǐn : work (of art), opus, \n",
      "空间 kōng jiān : space, \n",
      "展览 zhǎn lǎn : to put on display, to exhibit, exhibition, show, \n",
      "选择 xuǎn zé : to select, to pick, choice, option, alternative\n",
      "艺术家 yì shù jiā : artist, \n",
      "自然 zì rán : nature, natural, naturally\n",
      "思考 sī kǎo : to reflect on, to ponder over\n"
     ]
    }
   ],
   "source": [
    "new_words = get_words(contents2)\n",
    "for x in tt.look_up(new_words)[:10]:\n",
    "    print x\n"
   ]
  },
  {
   "cell_type": "code",
   "execution_count": 246,
   "metadata": {},
   "outputs": [
    {
     "name": "stdout",
     "output_type": "stream",
     "text": [
      " 奥莱 卡斯特 渐近线 能够 决定 无限 怀疑 幻觉 还有 观展 其中 感官 人们 其他 直线 这样 不同 曲线 参与 哪条 愉悦 当代艺术 颜色 文森特 时间 融入 这位 看来 根据 延伸 生于 组成 视觉 应该 所以 只有 可能 不断 相同 展现 比利 才能 对称 固有 拥有 这次 现长 别人 直接 对比 参展者 近于零 冥想 彩色 比如说 觉得 二分之一\n"
     ]
    }
   ],
   "source": [
    "new_stuff = yabla_lookup(tt.missing(new_words))"
   ]
  },
  {
   "cell_type": "code",
   "execution_count": 256,
   "metadata": {},
   "outputs": [],
   "source": [
    "failed = []\n",
    "for x,y in new_stuff.items():\n",
    "    try:\n",
    "        new_stuff[x] = clean(y)\n",
    "    except:\n",
    "        failed.append(x)"
   ]
  },
  {
   "cell_type": "code",
   "execution_count": 251,
   "metadata": {},
   "outputs": [
    {
     "name": "stdout",
     "output_type": "stream",
     "text": [
      "融入\\ 近于零\\ 还有\\ 这位\\ 看来\\ 感官\\ 文森特\\ 展现\\ 觉得\\ 观展\\ 怀疑\\ 时间\\ 视觉\\ 卡斯特\\ 颜色\\ 所以\\ 能够\\ 根据\\ 可能\\ 冥想\\ 只有\\ 其他\\ 参展者\\ 人们\\ 决定\\ 彩色\\ 不断\\ 参与\\ 其中\\ 二分之一\\ 比如说\\ 比利\\ 延伸\\ 对称\\ 应该\\ 奥莱\\ 哪条\\ 组成\\ 渐近线\\ 直线\\ 拥有\\ 固有\\ 相同\\ 生于\\ 才能\\ 不同\\ 曲线\\ 现长\\ 这次\\ 无限\\ 当代艺术\\ 别人\\ 幻觉\\ 直接\\ 对比\\ 这样\\ 愉悦\n"
     ]
    }
   ],
   "source": [
    "print '\\ '.join(failed)"
   ]
  },
  {
   "cell_type": "code",
   "execution_count": 264,
   "metadata": {},
   "outputs": [
    {
     "name": "stdout",
     "output_type": "stream",
     "text": [
      "一下 yī xià : (used after a verb) give it a go, to do (sth for a bit to give it a try), one time, once, in a while, all of a sudden, all at once\n",
      "一个 xià yī ge : the next one\n",
      "一些 yī xiē : some, a few, a little\n",
      "一体 yī tǐ : an integral whole, all concerned, everybody\n",
      "一切 yī qiè : everything, every, all\n",
      "一直 yī zhí : straight (in a straight line), continuously, always, from the beginning of ... up to ..., all along\n",
      "一种 yī zhǒng : one kind of, one type of\n",
      "三件 sān jiàn tào shì xī zhuāng : three-piece suit\n",
      "三重 Sān chóng : Sanchong or Sanch'ung city in New Taipei City 新北市[Xin1 bei3 shi4], Taiwan, Mie Prefecture in central Japan\n",
      "不同 bù tóng : different, distinct, not the same, not alike\n",
      "不断 bù duàn : unceasing, uninterrupted, continuous, constant\n",
      "不能 bù néng : cannot, must not, should not\n",
      "专门从事 zhuānmén cóngshì : specializing in\n",
      "世界 shì jiè : world, \n",
      "两个 liǎng gè huò liǎng gè yǐ shàng : two or more\n",
      "两端 liǎng duān : both ends (of a stick etc), two extremes\n",
      "个展 gè zhǎn : a one-person exhibition\n",
      "中国 Zhōng guó : China\n",
      "中国画 Zhōng guó huà : Chinese painting\n",
      "中央美术学院 zhōngyāng měishù xuéyuàn : central academy of fine arts\n",
      "中心 zhōng xīn : center, heart, core\n",
      "主任 zhǔ rèn : director, head\n",
      "主题 zhǔ tí : theme, subject\n",
      "之眼 zhī yǎn : eyes\n",
      "乐趣 lè qù : delight, pleasure, joy\n",
      "买来 jīn qián bù néng mǎi lái xìng fú : money can't buy happiness\n",
      "事实上 shì shí shàng : in fact, in reality, actually, as a matter of fact, de facto, ipso facto\n",
      "二分之一 èr fēn zhī yī : one half\n",
      "二十世纪 èr shí shì jì : 20th century\n",
      "互动 hù dòng : to interact, interactive\n",
      "产生 chǎn shēng : to arise, to come into being, to come about, to give rise to, to bring into being, to bring about, to produce, to engender, to generate, to appear, appearance, emergence, generation, production, yield\n",
      "亮相 liàng xiàng : to strike a pose (Chinese opera), (fig.) to make a public appearance, to come out in public (revealing one's true personality, opinions etc), (of a product) to appear on the market or at a trade show etc\n",
      "人们 rén men : people\n",
      "人性 rén xìng : human nature, humanity, human, the totality of human attributes\n",
      "人文 rén wén : humanities, human affairs, culture\n",
      "人生 rén shēng : life (one's time on earth)\n",
      "人类 rén lèi : humanity, human race, mankind\n",
      "什么 shén me : what?, who?, something, anything\n",
      "仁爱 Rén ài : Renai or Jenai district of Keelung City 基隆市[Ji1 long2 shi4], Taiwan, Renai or Jenai township in Nantou county 南投縣|南投县[Nan2 tou2 xian4], central Taiwan\n",
      "今天 jīn tiān : today, at the present, now\n",
      "介于 jiè yú : between, intermediate, to lie between\n",
      "介绍 jiè shào : to introduce (sb to sb), to give a presentation, to present (sb for a job etc), introduction\n",
      "从事 cóng shì : to go for, to engage in, to undertake, to deal with, to handle, to do\n",
      "以及 yǐ jí : as well as, too, and\n",
      "以此 yǐ cǐ : with this, thereby, thus, because of this\n",
      "价值 jià zhí : value, worth, fig. values (ethical, cultural etc)\n",
      "任何 rèn hé : any, whatever, whichever, whatsoever\n",
      "传播 chuán bō : to disseminate, to propagate, to spread\n",
      "传统 chuán tǒng : tradition, traditional, convention, conventional\n",
      "但是 dàn shì : but, however\n",
      "体验 tǐ yàn : to experience for oneself\n",
      "作为 zuò wéi : one's conduct, deed, activity, accomplishment, achievement, to act as, as (in the capacity of), qua, to view as, to look upon (sth as), to take sth to be\n",
      "作品 zuò pǐn : work (of art), opus, \n",
      "像素 xiàng sù : pixel\n",
      "先生 xiān sheng : teacher, husband, doctor (dialect)\n",
      "光芒 guāng máng : rays of light, brilliant rays, radiance\n",
      "关切 guān qiè : to be deeply concerned, to be troubled (by)\n",
      "关怀 guān huái : care, solicitude, to show care for, concerned about, attentive to\n",
      "兴趣 xìng qù : interest (desire to know about sth), interest (thing in which one is interested), hobby, \n",
      "其中 qí zhōng : among, in, included among these\n",
      "其他 qí tā : other, (sth or sb) else, the rest\n",
      "写实 fēi xiě shí : nonrepresentational\n",
      "冥想 míng xiǎng : to meditate, meditation\n",
      "决定 jué dìng : to decide (to do something), to resolve, decision\n",
      "凝望 níng wàng : to gaze at, to stare fixedly at\n",
      "几何 céng jǐ hé shí : just a while before, not so long ago, everyone can remember when..\n",
      "凭借 píng jiè : to rely on, to depend on, by means of, thanks to, sth that one relies on\n",
      "分为 fēn wéi : to divide sth into (parts), to subdivide\n",
      "分享 fēn xiǎng : to share (let others have some of sth good)\n",
      "分割 fēn gē : to cut up, to break up\n",
      "创作 chuàng zuò : to create, to produce, to write, creative work, creation, \n",
      "创作方法 chuàngzuò fāngfǎ : creative method\n",
      "别人 bié rén : other people, others, other person\n",
      "力图 lì tú : to try hard to, to strive to\n",
      "势象 shì xiàng : potential image\n",
      "卡斯特 Kǎ sī tè luó : Castro (name), Fidel Castro or Fidel Alejandro Castro Ruz (1926-), Cuban revolutionary leader, prime minister 1959-1976, president 1976-2008\n",
      "历程 lì chéng : course, process\n",
      "参与 cān yù : to participate (in sth)\n",
      "参与性 cānyù xìng : participatory\n",
      "参展者 None\n",
      "发展 fā zhǎn : development, growth, to develop, to grow, to expand\n",
      "发掘 fā jué : to excavate, to explore, (fig.) to unearth, to tap into\n",
      "受过 dài rén shòu guò : to take the blame for sb else, to be made a scapegoat\n",
      "变得 biàn de : to become\n",
      "变成 biàn chéng : to change into, to turn into, to become\n",
      "另一方面 lìng yī fāng miàn : on the other hand, another aspect\n",
      "只有 zhǐ yǒu : only\n",
      "可能 kě néng : might (happen), possible, probable, possibility, probability, maybe, perhaps\n",
      "可能性 kě néng xìng : possibility, probability\n",
      "右侧 yòu cè : right side\n",
      "同时 tóng shí : at the same time, simultaneously\n",
      "向上 xiàng shàng : upward, up, to advance, to try to improve oneself, to make progress\n",
      "呈现 chéng xiàn : to appear, to emerge, to present (a certain appearance), to demonstrate\n",
      "品牌 pǐn pái : brand name, trademark\n",
      "哗哗 huā huā : sound of gurgling water\n",
      "哪些 nǎ xiē : which ones?, who?, what?\n",
      "哪些方面 nǎxiē fāngmiàn : what aspects\n",
      "哪条 None\n",
      "喇叭 lǎ ba : horn (automobile etc), loudspeaker, brass wind instrument, trumpet, suona 鎖吶|锁呐[suo3 na4]\n",
      "器材 qì cái : equipment, material\n",
      "噪声 zào shēng : noise\n",
      "回归 huí guī : to return to, to retreat, regression (statistics)\n",
      "固有 gù yǒu : intrinsic to sth, inherent, native\n",
      "国内 guó nèi : domestic, internal (to a country), civil\n",
      "图像 tú xiàng : image, picture, graphic\n",
      "在艺 zài yì : in art\n",
      "地上 dì shang : on the ground, on the floor\n",
      "坎贝尔 Kǎn bèi ěr : Campbell (name)\n",
      "声音 shēng yīn : voice, sound\n",
      "多元性 duō yuán xìng : diversity\n",
      "夜中 yèzhōng : midnight\n",
      "天赋 tiān fù : gift, innate skill\n",
      "奥莱 None\n",
      "媒体 méi tǐ : media, esp. news media\n",
      "学术 xué shù : learning, science, academic\n",
      "学者 xué zhě : scholar\n",
      "宇宙 yǔ zhòu : universe, cosmos\n",
      "安装 ān zhuāng : to install, to erect, to fix, to mount, installation\n",
      "定制 dìng zhì : custom-made, made-to-order, to have something custom made\n",
      "宜家 Yí jiā : IKEA, Swedish furniture retailer\n",
      "实践 shí jiàn : practice, to put into practice, to live up to (a promise), to carry out (a project)\n",
      "实验场 shíyàn chǎng : experimental field\n",
      "实验室 shí yàn shì : laboratory, \n",
      "审美 shěn měi : esthetics, appreciating the arts, taste\n",
      "察觉 chá jué : to sense, to perceive, to become aware of, to detect\n",
      "对于 duì yú : regarding, as far as sth is concerned, with regards to\n",
      "对比 duì bǐ : to contrast, contrast, ratio\n",
      "对称 duì chèn : symmetry, symmetrical\n",
      "导致 dǎo zhì : to lead to, to create, to cause, to bring about\n",
      "层面 céng miàn : plane, level\n",
      "展出 zhǎn chū : to put on display, to be on show, to exhibit\n",
      "展厅 zhǎntīng : exhibition hall\n",
      "展现 zhǎn xiàn : to come out, to emerge, to reveal, to display\n",
      "展示 zhǎn shì : to reveal, to display, to show, to exhibit sth\n",
      "展览 zhǎn lǎn : to put on display, to exhibit, exhibition, show, \n",
      "岁月 suì yuè : years, time\n",
      "工业 gōng yè : industry\n",
      "工业革命 gōng yè gé mìng : Industrial Revolution, c. 1750-1830\n",
      "工作 gōng zuò : to work, (of a machine) to operate, job, work, task, \n",
      "左侧 zuǒ cè : left side\n",
      "巨型 jù xíng : giant, enormous\n",
      "希望 xī wàng : to wish for, to desire, hope, \n",
      "干扰 gān rǎo : to disturb, to interfere, perturbation, interference (physics)\n",
      "平台 píng tái : platform, terrace, flat-roofed building\n",
      "幻觉 huàn jué : illusion, hallucination, figment of one's imagination\n",
      "应该 yīng gāi : ought to, should, must\n",
      "延伸 yán shēn : to extend, to spread\n",
      "延展 yán zhǎn : to extend, to stretch out, ductable, to scale, scalable\n",
      "开始 kāi shǐ : to begin, beginning, to start, initial, \n",
      "开幕 kāi mù : to open (a conference), to inaugurate\n",
      "开放性 kāi fàng xìng : openness\n",
      "当中 dāng zhōng : among, in the middle, in the center\n",
      "当代艺术 None\n",
      "当然 dāng rán : only natural, as it should be, certainly, of course, without doubt\n",
      "彩色 cǎi sè : color, multi-colored\n",
      "微电子 wēi diàn zǐ : microelectronics\n",
      "快感 kuài gǎn : pleasure, thrill, delight, joy, pleasurable sensation, a high\n",
      "怀疑 huái yí : to doubt, to suspect, doubt, suspicion, skeptical\n",
      "怎样 zěn yàng : how, why\n",
      "思想 sī xiǎng : thought, thinking, idea, ideology\n",
      "思考 sī kǎo : to reflect on, to ponder over\n",
      "悬挂 xuán guà : to suspend, to hang, (vehicle) suspension\n",
      "愉悦 yú yuè : joyful, cheerful, delighted, joy, delight\n",
      "感官 gǎn guān : sense, sense organ\n",
      "感情 gǎn qíng : feeling, emotion, sensation, likes and dislikes, deep affection for sb or sth, relationship (i.e. love affair), \n",
      "我们 wǒ men : we, us, ourselves, our\n",
      "所以 suǒ yǐ : therefore, as a result, so, the reason why\n",
      "扁平 biǎn píng : flat, planar\n",
      "才华 cái huá : talent, \n",
      "才能 cái néng : talent, ability, capacity\n",
      "打造 dǎ zào : to create, to build, to develop, to forge (of metal)\n",
      "扬声器 yáng shēng qì : speaker\n",
      "抽象 chōu xiàng : abstract, abstraction\n",
      "拥有 yōng yǒu : to have, to possess\n",
      "探讨 tàn tǎo : to investigate, to probe\n",
      "接受 jiē shòu : to accept, to receive\n",
      "接近 jiē jìn : to approach, to get close to\n",
      "控制 kòng zhì : control, to exercise control over, to contain\n",
      "摆放 bǎi fàng : to set up, to arrange, to lay out\n",
      "收获 shōu huò : variant of 收穫|收获[shou1 huo4]\n",
      "故事 gù shi : narrative, story, tale\n",
      "散射 sǎn shè : scattering\n",
      "数年 shù nián : several years, many years\n",
      "文人 wén rén : scholar, literati\n",
      "文化 wén huà : culture, civilization, cultural, \n",
      "文学 wén xué : literature\n",
      "文本 wén běn : version, text\n",
      "文森特 Shèng wén sēn tè hé Gé lín nà dīng sī : Saint Vincent and the Grenadines\n",
      "新型 xīn xíng : new type, new kind\n",
      "新时线 xīn shí xiàn : new timeline\n",
      "新视野 xīn shìyě : new horizon\n",
      "新锐 xīn ruì : cutting-edge (in technology, science, fashion, the arts etc), novel and competitive, new and dashing\n",
      "方式 fāng shì : way, manner, style, mode, pattern, \n",
      "方法 fāng fǎ : method, way, means, \n",
      "无法 wú fǎ : unable, incapable\n",
      "无疑 wú yí : no doubt, undoubtedly\n",
      "无限 wú xiàn : unlimited, unbounded\n",
      "日光灯 rì guāng dēng : fluorescent light\n",
      "旨趣 zhǐ qù : purport, intent\n",
      "早期 zǎo qī : early period, early phase, early stage\n",
      "时间 shí jiān : time, period\n",
      "昆虫 kūn chóng : insect, \n",
      "是因为 shì yīnwèi : because of\n",
      "显示 xiǎn shì : to show, to illustrate, to display, to demonstrate\n",
      "普遍 pǔ biàn : universal, general, widespread, common\n",
      "景象 jǐng xiàng : scene, sight (to behold)\n",
      "曲线 qū xiàn : curve, curved line, indirect, in a roundabout way\n",
      "有人 yǒu rén : someone, people, anyone, there is someone there, occupied (as in restroom)\n",
      "有意识 yǒu yì shí : conscious\n",
      "服务员 fú wù yuán : waiter, waitress, attendant, customer service personnel, \n",
      "朦胧 méng lóng : hazy\n",
      "本身 běn shēn : itself, in itself, per se\n",
      "机制 jī zhì : machine processed, machine made, mechanism\n",
      "机构 jī gòu : mechanism, structure, organization, agency, institution\n",
      "极大丰富 jí dà fēngfù : extremely rich\n",
      "构成 gòu chéng : to constitute, to form, to compose, to make up, to configure (computing)\n",
      "根据 gēn jù : according to, based on, basis, foundation\n",
      "植物 zhí wù : plant, vegetation, \n",
      "正中 zhèng zhōng : middle, center, right in the middle or center, nub\n",
      "此次 cǐ cì : this time\n",
      "比利 Bǐ lì shí : Belgium\n",
      "比如说 None\n",
      "水墨 shuǐ mò huà : ink and wash painting\n",
      "池塘 chí táng : pool, pond\n",
      "测绘 cè huì : to survey and draw, to map\n",
      "浓厚兴趣 nónghòu xìngqù : strong interest\n",
      "涉及 shè jí : to involve, to touch upon (a topic)\n",
      "涵盖 hán gài : to cover, to comprise, to include\n",
      "深入 shēn rù : to penetrate deeply, thorough\n",
      "渐近线 None\n",
      "游行 yóu xíng : march, parade, demonstration\n",
      "演变 yǎn biàn : to develop, to evolve, development, evolution\n",
      "演讲 yǎn jiǎng : lecture, to make a speech\n",
      "演讲者 yǎnjiǎng zhě : speaker\n",
      "灯所 dēng suǒ : lights\n",
      "灵魂深处 líng hún shēn chù : in the depth of one's soul\n",
      "点亮 diǎn liàng : to illuminate, to turn on the lights, to light (a blaze)\n",
      "爆裂 bào liè : to rupture, to burst, to explode\n",
      "版数 bǎn shù : number of editions\n",
      "独具一格 dú jù yī gé : unique\n",
      "王楠 Wáng Nán : Wang Nan (1978-), female PRC table tennis player, Olympic medalist\n",
      "现世 xiàn shì : this life, to lose face, to be disgraced\n",
      "现代人 xiàn dài rén : modern man, Homo sapiens\n",
      "现场 xiàn chǎng : the scene (of a crime, accident etc), (on) the spot, (at) the site\n",
      "现实 xiàn shí : reality, actuality, real, actual, realistic\n",
      "现长 None\n",
      "理念 lǐ niàn : idea, concept, philosophy, theory\n",
      "理解 lǐ jiě : to comprehend, to understand, comprehension, understanding\n",
      "理论 lǐ lùn : theory, \n",
      "生于 shēng yú yōu huàn , sǐ yú ān lè : thrive in calamity and perish in soft living, life springs from sorrow and calamity, death comes from ease and pleasure (idiom)\n",
      "生命 shēng mìng : life, living, biological, \n",
      "生命线 shēng mìng xiàn : lifeline\n",
      "生活 shēng huó : life, activity, to live, livelihood\n",
      "生长 shēng zhǎng : to grow\n",
      "由此 yóu cǐ : hereby, from this\n",
      "电子元件 diàn zǐ yuán jiàn : electronic component\n",
      "电影 diàn yǐng : movie, film\n",
      "电线 diàn xiàn : wire, power cord\n",
      "画家 huà jiā : painter, \n",
      "画廊 huà láng : gallery\n",
      "白天 bái tiān : daytime, during the day, day, \n",
      "盲目 máng mù : blind, blindly, ignorant, lacking understanding\n",
      "直接 zhí jiē : direct, opposite: indirect 間接|间接, immediate, directly, straightforward\n",
      "直线 zhí xiàn : straight line, sharply (rise or fall)\n",
      "直觉 zhí jué : intuition\n",
      "相同 xiāng tóng : identical, same\n",
      "看似 kàn sì : to look as if, to seem\n",
      "看待 kàn dài : to look upon, to regard\n",
      "看来 kàn lai : apparently, it seems that\n",
      "着迷 zháo mí : to be fascinated, to be captivated\n",
      "知名 zhī míng : well-known, famous\n",
      "知识 zhī shi : knowledge, \n",
      "知道 zhī dào : to know, to become aware of, also pr. [zhi1 dao5]\n",
      "石板 shí bǎn : slab, flagstone, slate\n",
      "研究 yán jiū : research, a study\n",
      "碰撞 pèng zhuàng : to collide, collision\n",
      "私密 sī mì : private, secret, intimate\n",
      "科学 kē xué : science, scientific knowledge, scientific, rational, \n",
      "科技 kē jì : science and technology\n",
      "空白 kòng bái : blank space\n",
      "空间 kōng jiān : space, \n",
      "笔墨 bǐ mò : pen and ink, words, writing\n",
      "策展 cè zhǎn : curate\n",
      "签字笔 qiān zì bǐ : felt-tip pen, roller ball pen, gel ink pen\n",
      "类似 lèi sì : similar, analogous\n",
      "精神 jīng shén : spirit, mind, consciousness, thought, mental, psychological, essence, gist, \n",
      "系列 xì liè : series, set\n",
      "系统 xì tǒng : system, \n",
      "素朴 sù pǔ : simple, unadorned, unsophisticated, naive\n",
      "线条 xiàn tiáo : line (in drawing, calligraphy etc), the lines or contours of a three-dimensional object (hairstyle, clothing, car etc)\n",
      "组成 zǔ chéng : to form, to make up, to constitute\n",
      "经典 jīng diǎn : the classics, scriptures, classical, classic (example, case etc), typical\n",
      "经验 jīng yàn : experience, to experience\n",
      "置于 zhì yú : to place, to put (at or in a position), to be located\n",
      "美术史 měi shù shǐ : history of art\n",
      "老师 lǎo shī : teacher, \n",
      "而出 tuō yǐng ér chū : to reveal one's talent (idiom), to rise above others, to distinguish oneself\n",
      "而言 ér yán : with regard to (preceding phrase)\n",
      "能否 néng fǒu : whether or not, can it or can't it, is it possible?\n",
      "能够 néng gòu : to be capable of, to be able to, can\n",
      "脉络 mài luò : arteries and veins, network of blood vessels, vascular system (of a plant or animal), (fig.) fabric (i.e. underlying structure, as in \"social fabric\"), overall context\n",
      "自己 zì jǐ : oneself, one's own\n",
      "自我 zì wǒ : self-, ego (psychology)\n",
      "自然 zì rán : nature, natural, naturally\n",
      "色彩 sè cǎi : tint, coloring, coloration, (fig.) flavor, character\n",
      "艺术 yì shù : art\n",
      "艺术家 yì shù jiā : artist, \n",
      "苏摩 None\n",
      "英寸 yīng cùn : inch (unit of length equal to 2.54 cm.)\n",
      "获得 huò dé : to obtain, to receive, to get\n",
      "蘑菇 mó gu : mushroom, to pester, to dawdle\n",
      "融入 róng rù : to blend into, to integrate, to assimilate, to merge\n",
      "行动 xíng dòng : operation, action, to move, mobile\n",
      "表现 biǎo xiàn : to show, to show off, to display, to manifest, expression, manifestation, show, display, performance (at work etc), behavior\n",
      "表达 biǎo dá : to express, to convey\n",
      "表面 biǎo miàn : surface, face, outside, appearance\n",
      "装置 zhuāng zhì : to install, installation, equipment, system, unit, device\n",
      "西方 xī fāng : the West, the Occident, Western countries\n",
      "观众 guān zhòng : spectators, audience, visitors (to an exhibition etc)\n",
      "观展 None\n",
      "观念 guān niàn : notion, thought, concept, sense, views, ideology, general impressions\n",
      "观看 guān kàn : to watch, to view\n",
      "观者 páng guān zhě : observer, spectator\n",
      "视觉 shì jué : sight, vision, visual\n",
      "视野 shì yě : field of view, horizon\n",
      "觉得 jué de : to think, to feel\n",
      "角度 jiǎo dù : angle, point of view\n",
      "认知 rèn zhī : cognition, to acknowledge\n",
      "讲堂 jiǎng táng : lecture hall\n",
      "讲座 jiǎng zuò : a course of lectures\n",
      "设备 wǎng luò shè bèi : network equipment\n",
      "设计 shè jì : plan, design, to design, to plan\n",
      "语言 yǔ yán : language\n",
      "诸多 zhū duō : (used for abstract things) a good deal, a lot of\n",
      "谈谈 tán tán : to discuss, to have a chat\n",
      "贯穿 guàn chuān : to run through, a connecting thread from beginning to end, to link\n",
      "起来 qǐ lai : to stand up, to get up\n",
      "轨道 guǐ dào : orbit, railway or tram line, fig. conventional way of thinking\n",
      "转变 zhuǎn biàn : to change, to transform, shift, transformation, \n",
      "转换 zhuǎn huàn : to change, to switch, to convert, to transform\n",
      "过去 guò qu : (verb suffix)\n",
      "过程 guò chéng : course of events, process, \n",
      "近于零 None\n",
      "还有 hái yǒu : furthermore, in addition, still, also\n",
      "这个 zhè ge : this, this one\n",
      "这些 zhè xiē : these\n",
      "这位 zhè wèi : this (person)\n",
      "这样 zhè yàng : this kind of, so, this way, like this, such\n",
      "这次 zhè cì wēi jī : present crisis, current crisis\n",
      "这种 zhè zhǒng : this, this kind of, this sort of, this type of\n",
      "迹化 jī huà : trace\n",
      "选择 xuǎn zé : to select, to pick, choice, option, alternative\n",
      "透过 tòu guò : through, via\n",
      "通勤 tōng qín : commuting\n",
      "邀请 yāo qǐng : to invite, invitation\n",
      "那么 nà me : like that, in that way, or so, so, so very much, about, in that case\n",
      "采取 cǎi qǔ : to adopt or carry out (measures, policies, course of action), to take\n",
      "针对 zhēn duì : to be directed against, to be aimed at, to counter, in the light of, in connection with\n",
      "闪烁 shǎn shuò : flickering, twinkling, evasive, vague (of speech)\n",
      "闪烁不定 shǎnshuò bùdìng : flickering\n",
      "间隙 jiàn xì : interval, gap, clearance\n",
      "隔离 gé lí : to separate, to isolate\n",
      "靠近 kào jìn : near, to approach\n",
      "面板 miàn bǎn : kneading board, breadboard\n",
      "颜色 yán sè : color, countenance, appearance, facial expression, pigment, dyestuff\n",
      "食堂 shí táng : dining hall, \n",
      "驱使 qū shǐ : to urge, to prompt, to spur on, to order sb about\n",
      "高端 gāo duān : high-end\n"
     ]
    }
   ],
   "source": [
    "tt.update(new_stuff)\n",
    "tt.show_all()"
   ]
  },
  {
   "cell_type": "code",
   "execution_count": 400,
   "metadata": {},
   "outputs": [],
   "source": []
  },
  {
   "cell_type": "code",
   "execution_count": 426,
   "metadata": {},
   "outputs": [],
   "source": [
    "txt2web(paras, my_words=tt)"
   ]
  },
  {
   "cell_type": "code",
   "execution_count": 425,
   "metadata": {},
   "outputs": [],
   "source": [
    "tt.dump()\n",
    "tt = MyWords()\n",
    "tt.load()\n",
    "tt.update(new_stuff)"
   ]
  },
  {
   "cell_type": "code",
   "execution_count": 367,
   "metadata": {},
   "outputs": [
    {
     "name": "stdout",
     "output_type": "stream",
     "text": [
      "蒋兆和\n",
      "于洋\n",
      "苦茶\n",
      "生民\n",
      "乡关\n",
      "家国\n"
     ]
    }
   ],
   "source": [
    "print '\\n'.join( tt.missing(tags2))"
   ]
  },
  {
   "cell_type": "code",
   "execution_count": 267,
   "metadata": {},
   "outputs": [],
   "source": [
    "doc = Document('/Users/macbuse/Downloads/ZHU_TRANSLATIONS/holler_CN.docx')"
   ]
  },
  {
   "cell_type": "code",
   "execution_count": 293,
   "metadata": {},
   "outputs": [
    {
     "name": "stdout",
     "output_type": "stream",
     "text": [
      "你早期的工作主要是针对农乡科学，直到1994年你一直在从事昆虫研究员的工作，专门从事的研究是昆虫如何通过嗅觉进行彼此沟通。那么是什么时候你开始转向艺术工作，导致你转变的原因是什么？\n",
      "1\n",
      "\n",
      "在早期的艺术作品中，你显示对数学和几何方面浓厚兴趣，大量作品探讨对现实世界分割的方法，在这段时间的创作对后来的空间作品有哪些方面的铺垫？\n",
      "3\n",
      "\n",
      "4\n",
      "\n",
      "在2006年你创作了一些大型的公共性艺术空间，像《实验场》、《游乐场》、《飞行器》能否介绍一下这三件作品的思路。事实上你在对出现工业革命之后平民体验科学乐趣的方式做了一些有意识的改变，当然我们也会思考这些器材产生的乐趣本身的目的性以及也会从控制论的角度来思考这系列作品，事实上这些作品将人类置于一种封闭的快感过程当中，将主体的经验做有意识的隔离和切分，当然这些器材出现在第一次和第二次工业革命，而并未涉及到微电子时代人类对自身控制的形式，那么你是怎样看待现代人在新的工业机制中所显示的状态？\n"
     ]
    }
   ],
   "source": [
    "for i, pp in enumerate(doc.paragraphs[:6]):\n",
    "    if not pp.text:  print i\n",
    "    print pp.text"
   ]
  },
  {
   "cell_type": "code",
   "execution_count": null,
   "metadata": {},
   "outputs": [],
   "source": []
  }
 ],
 "metadata": {
  "kernelspec": {
   "display_name": "Python 2",
   "language": "python",
   "name": "python2"
  },
  "language_info": {
   "codemirror_mode": {
    "name": "ipython",
    "version": 2
   },
   "file_extension": ".py",
   "mimetype": "text/x-python",
   "name": "python",
   "nbconvert_exporter": "python",
   "pygments_lexer": "ipython2",
   "version": "2.7.13"
  }
 },
 "nbformat": 4,
 "nbformat_minor": 2
}
