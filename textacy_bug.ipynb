{
 "cells": [
  {
   "cell_type": "code",
   "execution_count": 1,
   "metadata": {
    "collapsed": true
   },
   "outputs": [],
   "source": [
    "import textacy"
   ]
  },
  {
   "cell_type": "code",
   "execution_count": 2,
   "metadata": {
    "collapsed": true
   },
   "outputs": [],
   "source": [
    "text_ss = u'''Fan Xi: Reduction of Image - Return to the essence of image\n",
    "Fan Xi’s solo exhibition at Yang Gallery “Reduction of Image” is a collection of photographic works, presenting her recent reflections on the themes of humans and inert objects, existence and reality, the self and the other. For the four principal series of works \"Reduction of Image\", \"Duration\", \"Tree\" and \"All Beings\", Fan Xi adopts a non-narrative approach. By deconstructing the appearance of things and the narrative dimension of time, she aims to bring to light the “essence” of the “image”, directing our viewing of images towards an understanding of the nature of things.\n",
    "\n",
    "Fan Xi's educational background is in sculpture, making her especially sensitive to her use of material. Even though she has chosen to work with photography now for its quality of \"directness\", in these photographic works the influence on her creative rational that comes from her training as a  sculptor is still very perceptible. The series \"Reduction of Image\", from which the exhibition gets its title, is a work on which  she has been engaged  from 2012 till the present day.  Mottled colours and rough texture, combines with wood, plaster, marble and other mixed media so that, when standing before this, the visitor finds themselves hesitating before recognizing it as photography.\n",
    "In this series of works, the artist has used chemicals like alcohol and acid  to break down the silver layer of the photos, resulting in alterations to the original forms and a gradually degeneration into a totally unpredictable image over the course of time. This kind of reconstruction after the destruction of the image is essentially a rebellion against photography’s claim to creating “an instantaneously frozen picture”.\n",
    "\n",
    "Because of the materials involved, and the physical changes brought by them, the original thin images gain a unique vibrancy, and the subsequent subtle transformations make the photos’ expression of their **tense extend** with its existence. Through this procedure of disintegration by the corrosive action of the chemicals, the images have the appearance of emerging  from an outer \"skin\" **gaining their original forms**, so that the experience of  “viewing” them is detached  from our habitual cognition.\n",
    "Generally speaking, one tends to view an image in a way that is similar to \"reading\", and, as such, the endeavour of extracting descriptive information from photographs has become an automatic task. In this case the image, whose function is primarily to transmit information, loses its particular significance once this objective is achieved. When one considers the series “Duration” from the literal meaning of its name, it seems to refer to  the time that exists within the picture,  while in fact the purpose  of this series is more about  deconstructing the narrative components using  the linear time in the image.\n",
    "\n",
    "Under the spotlights, details of the figures photographed in the series are difficult to distinguish, leaving only vaguely discernible contours, or an empty scene with no  **true trace**. By eliminating any explicit hint of the time, location, identity  or event, the works apparently prevent themselves from being viewed in the accustomed manner. On the other hand, by concealing what the subject is, they ingeniously open another path,  effectively reducing the distance between the subject and the object, and  allowing us to directly perceive  the essence of things.\n",
    "The two biggest pieces in the exhibition hall were chosen from the \"Tree\" series that Fan Xi began in 2014. When creating this series  using computers Fan sampled images of hundreds of trees taken from different perspectives over the same period in time, and reassembled them into “one tree\". When confronted by such a “tree”, each part of which is real whilst the whole is not, our understanding of what \"a tree\" is put in question.\n",
    "\n",
    "Because each “unit” of the “tree” has been liberated from its original image, the ensemble composed of such units effectively *carries* the energy field of the **environment**, and further embodies the photographer’s impression **based on** her personal values. Thus, a tree in Fan Xi's work ceases to be a particular tree, but is rather an approximation to the ideal  “tree”. Breaking away from a recognizable reference, the image escapes the limitations of time and  space, and so approaches a conceptual “reality”.\n",
    "To some extent the perception of what is true existence  is in part a process of gradual subjugation of the ego. When one refrains from imposing  personal values and managing others,  then one's  **genuine/natural** self is free to come forth. Whilst the images in “Duration”, charged as they are with  connotations of  ceremony and meditation, still retain some of the photographer's personal **feelings**,  in Fan’s latest work \"All Beings\" such **imagined relationship** between the subject and the object is weakened in appearance.\n",
    "\n",
    "The natural phenomena that she captures in the dark of night, using long exposure  and multiple flash photography, display a sort of freeness and vibrancy.  One sees a multitude of traces of “existences” left by the passage of time -  effects obtained in development of the photographs. But instead of saying that the series \"All Beings\" is representing nature itself, it is closer to the truth to say that it borrows from abstract nature to present a “state” of existence. This true existence, evolving in different trajectories, leads us to a new understanding of the relationship between the self and the other.\n",
    "'''"
   ]
  },
  {
   "cell_type": "code",
   "execution_count": 3,
   "metadata": {},
   "outputs": [
    {
     "name": "stdout",
     "output_type": "stream",
     "text": [
      "              Fan Xi: Reduction of  Image  - Return to the essence of image\n",
      "F\n",
      "f Image - Return to the essence of  image \n",
      "Fan Xi’s solo exhibition at Yang G\n",
      "tion at Yang Gallery “Reduction of  Image ” is a collection of photographic w\n",
      "ipal series of works \"Reduction of  Image \", \"Duration\", \"Tree\" and \"All Bein\n",
      "ing to light the “essence” of the “ image ”, directing our viewing of images \n",
      " “image”, directing our viewing of  image s towards an understanding of the n\n",
      "ceptible. The series \"Reduction of  Image \", from which the exhibition gets i\n",
      "ation into a totally unpredictable  image  over the course of time. This kind\n",
      "ction after the destruction of the  image  is essentially a rebellion against\n",
      "brought by them, the original thin  image s gain a unique vibrancy, and the s\n",
      "osive action of the chemicals, the  image s have the appearance of emerging  \n",
      "lly speaking, one tends to view an  image  in a way that is similar to \"readi\n",
      "n automatic task. In this case the  image , whose function is primarily to tr\n",
      "ents using  the linear time in the  image .\n",
      "\n",
      "Under the spotlights, details of\n",
      "eries  using computers Fan sampled  image s of hundreds of trees taken from d\n",
      "s been liberated from its original  image , the ensemble composed of such uni\n",
      "from a recognizable reference, the  image  escapes the limitations of time an\n",
      " is free to come forth. Whilst the  image s in “Duration”, charged as they ar\n"
     ]
    }
   ],
   "source": [
    "textacy.text_utils.keyword_in_context(text_ss,\n",
    "                                      'image',\n",
    "                                      window_width=35)"
   ]
  },
  {
   "cell_type": "code",
   "execution_count": 4,
   "metadata": {
    "collapsed": true
   },
   "outputs": [],
   "source": [
    "import sys\n",
    "reload(sys)\n",
    "sys.setdefaultencoding('utf8')"
   ]
  },
  {
   "cell_type": "code",
   "execution_count": 5,
   "metadata": {
    "collapsed": true
   },
   "outputs": [],
   "source": [
    "textacy.text_utils.keyword_in_context(text_ss,\n",
    "                                      'image',\n",
    "                                      window_width=35)"
   ]
  },
  {
   "cell_type": "code",
   "execution_count": null,
   "metadata": {
    "collapsed": true
   },
   "outputs": [],
   "source": []
  }
 ],
 "metadata": {
  "kernelspec": {
   "display_name": "Python 2",
   "language": "python",
   "name": "python2"
  },
  "language_info": {
   "codemirror_mode": {
    "name": "ipython",
    "version": 2
   },
   "file_extension": ".py",
   "mimetype": "text/x-python",
   "name": "python",
   "nbconvert_exporter": "python",
   "pygments_lexer": "ipython2",
   "version": "2.7.13"
  }
 },
 "nbformat": 4,
 "nbformat_minor": 2
}
