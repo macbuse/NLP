{
 "cells": [
  {
   "cell_type": "code",
   "execution_count": 4,
   "metadata": {
    "collapsed": true
   },
   "outputs": [],
   "source": [
    "import spacy\n",
    "import os"
   ]
  },
  {
   "cell_type": "code",
   "execution_count": 38,
   "metadata": {},
   "outputs": [],
   "source": [
    "#dir(spacy)"
   ]
  },
  {
   "cell_type": "code",
   "execution_count": 11,
   "metadata": {
    "collapsed": true
   },
   "outputs": [],
   "source": [
    "text_ss = u'''Fan Xi: Reduction of Image - Return to the essence of image\n",
    "Fan Xi’s solo exhibition at Yang Gallery “Reduction of Image” is a collection of photographic works, presenting her recent reflections on the themes of humans and inert objects, existence and reality, the self and the other. For the four principal series of works \"Reduction of Image\", \"Duration\", \"Tree\" and \"All Beings\", Fan Xi adopts a non-narrative approach. By deconstructing the appearance of things and the narrative dimension of time, she aims to bring to light the “essence” of the “image”, directing our viewing of images towards an understanding of the nature of things.\n",
    "\n",
    "Fan Xi's educational background is in sculpture, making her especially sensitive to her use of material. Even though she has chosen to work with photography now for its quality of \"directness\", in these photographic works the influence on her creative rational that comes from her training as a  sculptor is still very perceptible. The series \"Reduction of Image\", from which the exhibition gets its title, is a work on which  she has been engaged  from 2012 till the present day.  Mottled colours and rough texture, combines with wood, plaster, marble and other mixed media so that, when standing before this, the visitor finds themselves hesitating before recognizing it as photography.\n",
    "In this series of works, the artist has used chemicals like alcohol and acid  to break down the silver layer of the photos, resulting in alterations to the original forms and a gradually degeneration into a totally unpredictable image over the course of time. This kind of reconstruction after the destruction of the image is essentially a rebellion against photography’s claim to creating “an instantaneously frozen picture”.\n",
    "\n",
    "Because of the materials involved, and the physical changes brought by them, the original thin images gain a unique vibrancy, and the subsequent subtle transformations make the photos’ expression of their **tense extend** with its existence. Through this procedure of disintegration by the corrosive action of the chemicals, the images have the appearance of emerging  from an outer \"skin\" **gaining their original forms**, so that the experience of  “viewing” them is detached  from our habitual cognition.\n",
    "Generally speaking, one tends to view an image in a way that is similar to \"reading\", and, as such, the endeavour of extracting descriptive information from photographs has become an automatic task. In this case the image, whose function is primarily to transmit information, loses its particular significance once this objective is achieved. When one considers the series “Duration” from the literal meaning of its name, it seems to refer to  the time that exists within the picture,  while in fact the purpose  of this series is more about  deconstructing the narrative components using  the linear time in the image.\n",
    "\n",
    "Under the spotlights, details of the figures photographed in the series are difficult to distinguish, leaving only vaguely discernible contours, or an empty scene with no  **true trace**. By eliminating any explicit hint of the time, location, identity  or event, the works apparently prevent themselves from being viewed in the accustomed manner. On the other hand, by concealing what the subject is, they ingeniously open another path,  effectively reducing the distance between the subject and the object, and  allowing us to directly perceive  the essence of things.\n",
    "The two biggest pieces in the exhibition hall were chosen from the \"Tree\" series that Fan Xi began in 2014. When creating this series  using computers Fan sampled images of hundreds of trees taken from different perspectives over the same period in time, and reassembled them into “one tree\". When confronted by such a “tree”, each part of which is real whilst the whole is not, our understanding of what \"a tree\" is put in question.\n",
    "\n",
    "Because each “unit” of the “tree” has been liberated from its original image, the ensemble composed of such units effectively *carries* the energy field of the **environment**, and further embodies the photographer’s impression **based on** her personal values. Thus, a tree in Fan Xi's work ceases to be a particular tree, but is rather an approximation to the ideal  “tree”. Breaking away from a recognizable reference, the image escapes the limitations of time and  space, and so approaches a conceptual “reality”.\n",
    "To some extent the perception of what is true existence  is in part a process of gradual subjugation of the ego. When one refrains from imposing  personal values and managing others,  then one's  **genuine/natural** self is free to come forth. Whilst the images in “Duration”, charged as they are with  connotations of  ceremony and meditation, still retain some of the photographer's personal **feelings**,  in Fan’s latest work \"All Beings\" such **imagined relationship** between the subject and the object is weakened in appearance.\n",
    "\n",
    "The natural phenomena that she captures in the dark of night, using long exposure  and multiple flash photography, display a sort of freeness and vibrancy.  One sees a multitude of traces of “existences” left by the passage of time -  effects obtained in development of the photographs. But instead of saying that the series \"All Beings\" is representing nature itself, it is closer to the truth to say that it borrows from abstract nature to present a “state” of existence. This true existence, evolving in different trajectories, leads us to a new understanding of the relationship between the self and the other.\n",
    "'''"
   ]
  },
  {
   "cell_type": "code",
   "execution_count": 7,
   "metadata": {
    "collapsed": true
   },
   "outputs": [],
   "source": [
    "#https://nicschrading.com/project/Intro-to-NLP-with-spaCy/\n",
    "\n"
   ]
  },
  {
   "cell_type": "code",
   "execution_count": 9,
   "metadata": {},
   "outputs": [],
   "source": [
    "from spacy.en import English\n",
    "parser = English()"
   ]
  },
  {
   "cell_type": "code",
   "execution_count": 12,
   "metadata": {},
   "outputs": [],
   "source": [
    "parsedData = parser(text_ss)"
   ]
  },
  {
   "cell_type": "code",
   "execution_count": 13,
   "metadata": {},
   "outputs": [
    {
     "name": "stdout",
     "output_type": "stream",
     "text": [
      "('original:', 12955, u'Fan')\n",
      "('lowercased:', 1085, u'fan')\n",
      "('lemma:', 1085, u'fan')\n",
      "('shape:', 172660, u'Xxx')\n",
      "('prefix:', 3792, u'F')\n",
      "('suffix:', 12955, u'Fan')\n",
      "('log probability:', -12.653387069702148)\n",
      "('Brown cluster id:', 966)\n",
      "----------------------------------------\n",
      "('original:', 64660, u'Xi')\n",
      "('lowercased:', 90872, u'xi')\n",
      "('lemma:', 90872, u'xi')\n",
      "('shape:', 87672, u'Xx')\n",
      "('prefix:', 98, u'X')\n",
      "('suffix:', 64660, u'Xi')\n",
      "('log probability:', -15.330573081970215)\n",
      "('Brown cluster id:', 1990)\n",
      "----------------------------------------\n",
      "('original:', 420, u':')\n",
      "('lowercased:', 420, u':')\n",
      "('lemma:', 420, u':')\n",
      "('shape:', 420, u':')\n",
      "('prefix:', 420, u':')\n",
      "('suffix:', 420, u':')\n",
      "('log probability:', -6.128875732421875)\n",
      "('Brown cluster id:', 228)\n",
      "----------------------------------------\n"
     ]
    }
   ],
   "source": [
    "for i, token in enumerate(parsedData):\n",
    "    print(\"original:\", token.orth, token.orth_)\n",
    "    print(\"lowercased:\", token.lower, token.lower_)\n",
    "    print(\"lemma:\", token.lemma, token.lemma_)\n",
    "    print(\"shape:\", token.shape, token.shape_)\n",
    "    print(\"prefix:\", token.prefix, token.prefix_)\n",
    "    print(\"suffix:\", token.suffix, token.suffix_)\n",
    "    print(\"log probability:\", token.prob)\n",
    "    print(\"Brown cluster id:\", token.cluster)\n",
    "    print(\"----------------------------------------\")\n",
    "    if i > 1:\n",
    "        break"
   ]
  },
  {
   "cell_type": "code",
   "execution_count": 16,
   "metadata": {},
   "outputs": [
    {
     "name": "stdout",
     "output_type": "stream",
     "text": [
      "Fan Xi: Reduction of Image - Return to the essence of image\n",
      "Fan Xi’s solo exhibition at Yang Gallery “Reduction of Image” is a collection of photographic works, presenting her recent reflections on the themes of humans and inert objects, existence and reality, the self and the other.\n",
      "For the four principal series of works \"Reduction of Image\", \"Duration\", \"Tree\" and \"All Beings\", Fan Xi adopts a non-narrative approach.\n",
      "By deconstructing the appearance of things and the narrative dimension of time, she aims to bring to light the “essence” of the “image”, directing our viewing of images towards an understanding of the nature of things.\n",
      "Fan Xi's educational background is in sculpture, making her especially sensitive to her use of material.\n",
      "Even though she has chosen to work with photography now for its quality of \"directness\", in these photographic works the influence on her creative rational that comes from her training as a  sculptor is still very perceptible.\n",
      "The series \"Reduction of Image\", from which the exhibition gets its title, is a work on which  she has been engaged  from 2012 till the present day.\n",
      "Mottled colours and rough texture, combines with wood, plaster, marble and other mixed media so that, when standing before this, the visitor finds themselves hesitating before recognizing it as photography.\n",
      "In this series of works, the artist has used chemicals like alcohol and acid  to break down the silver layer of the photos, resulting in alterations to the original forms and a gradually degeneration into a totally unpredictable image over the course of time.\n",
      "This kind of reconstruction after the destruction of the image is essentially a rebellion against photography’s claim to creating “an instantaneously frozen\n",
      "picture”.\n",
      "Because of the materials involved, and the physical changes brought by them, the original thin images gain a unique vibrancy, and the subsequent subtle transformations make the photos’ expression of their **tense extend** with its existence.\n",
      "Through this procedure of disintegration by the corrosive action of the chemicals, the images have the appearance of emerging  from an outer \"skin\" **gaining their original forms**, so that the experience of  “viewing” them is detached  from our habitual cognition.\n",
      "Generally speaking, one tends to view an image in a way that is similar to \"reading\", and, as such, the endeavour of extracting descriptive information from photographs has become an automatic task.\n",
      "In this case the image, whose function is primarily to transmit information, loses its particular significance once this objective is achieved.\n",
      "When one considers the series “\n",
      "Duration” from the literal meaning of its name, it\n",
      "seems to refer to  the time that exists within the picture,  while in fact the purpose  of this series is more about  deconstructing the narrative components using  the linear time in the image.\n",
      "Under the spotlights, details of the figures photographed in the series are difficult to distinguish, leaving only vaguely discernible contours, or an empty scene with no  **true trace**.\n",
      "By eliminating any explicit hint of the time, location, identity  or event, the works apparently prevent themselves from being viewed in the accustomed manner.\n",
      "On the other hand, by concealing what the subject is, they ingeniously open another path,  effectively reducing the distance between the subject and the object, and  allowing us to directly perceive  the essence of things.\n",
      "The two biggest pieces in the exhibition hall were chosen from the \"Tree\" series that Fan Xi began in 2014.\n",
      "When creating this series  using computers Fan sampled images of hundreds of trees taken from different perspectives over the same period in time, and reassembled them into “one tree\".\n",
      "When confronted by such a “tree”, each part of which is real whilst the whole is not, our understanding of what \"a tree\" is put in question.\n",
      "Because each “unit” of the “tree” has been liberated from its original image, the ensemble composed of such units effectively *carries* the energy field of the **environment**, and further embodies the photographer’s impression **based on** her personal values.\n",
      "Thus, a tree in Fan Xi's work ceases to be a particular tree, but is rather an approximation to the ideal  “\n",
      "tree”.\n",
      "Breaking away from a recognizable reference, the image escapes the limitations of time and  space, and so approaches a conceptual “reality”.\n",
      "To some extent the perception of what is true existence  is in part a process of gradual subjugation of the ego.\n",
      "When one refrains from imposing  personal values and managing others,  then one's  **genuine/natural** self is free to come forth.\n",
      "Whilst the images in “Duration”, charged as they are with  connotations of  ceremony and meditation, still retain some of the photographer's personal **feelings**,  in Fan’s latest work \"All Beings\" such **imagined relationship** between the subject and the object is weakened in appearance.\n",
      "The natural phenomena that she captures in the dark of night, using long exposure  and multiple flash photography, display a sort of freeness and vibrancy.\n",
      "One sees a multitude of traces of “existences” left by the passage of time -  effects obtained in development of the photographs.\n",
      "But instead of saying that the series \"All Beings\" is representing nature itself, it is closer to the truth to say that it borrows from abstract nature to present a “state” of existence.\n",
      "This true existence, evolving in different trajectories, leads us to a new understanding of the relationship between the self and the other.\n"
     ]
    }
   ],
   "source": [
    "sents = []\n",
    "\n",
    "for span in parsedData.sents:\n",
    "    # go from the start to the end of each span, returning each token in the sentence\n",
    "    # combine each token using join()\n",
    "    sent = ''.join(parsedData[i].string for i in range(span.start, span.end)).strip()\n",
    "    sents.append(sent)\n",
    "\n",
    "for sentence in sents:\n",
    "    print(sentence)"
   ]
  },
  {
   "cell_type": "code",
   "execution_count": 36,
   "metadata": {},
   "outputs": [],
   "source": [
    "# Let's look at the part of speech tags of the first sentence\n",
    "\n",
    "vocab = []\n",
    "for span in parsedData.sents:\n",
    "    sent = [parsedData[i] for i in range(span.start, span.end)]\n",
    "    for token in sent:\n",
    "        word = token.lower_\n",
    "        if word in [u'which',u'their',u'whose']: continue\n",
    "        if len(word) > 4 and token.pos_  in [u'ADJ', u'ADV'] :\n",
    "            vocab.append((word, token.pos_))\n",
    "            "
   ]
  },
  {
   "cell_type": "code",
   "execution_count": 92,
   "metadata": {},
   "outputs": [
    {
     "data": {
      "text/plain": [
       "[(u'abstract', u'ADJ'),\n",
       " (u'accustomed', u'ADJ'),\n",
       " (u'apparently', u'ADV'),\n",
       " (u'automatic', u'ADJ'),\n",
       " (u'biggest', u'ADJ'),\n",
       " (u'closer', u'ADJ'),\n",
       " (u'conceptual', u'ADJ'),\n",
       " (u'corrosive', u'ADJ'),\n",
       " (u'creative', u'ADJ'),\n",
       " (u'descriptive', u'ADJ'),\n",
       " (u'different', u'ADJ'),\n",
       " (u'difficult', u'ADJ'),\n",
       " (u'directly', u'ADV'),\n",
       " (u'discernible', u'ADJ'),\n",
       " (u'educational', u'ADJ'),\n",
       " (u'effectively', u'ADV'),\n",
       " (u'empty', u'ADJ'),\n",
       " (u'especially', u'ADV'),\n",
       " (u'essentially', u'ADV'),\n",
       " (u'explicit', u'ADJ'),\n",
       " (u'forth', u'ADV'),\n",
       " (u'further', u'ADV'),\n",
       " (u'generally', u'ADV'),\n",
       " (u'gradual', u'ADJ'),\n",
       " (u'gradually', u'ADV'),\n",
       " (u'habitual', u'ADJ'),\n",
       " (u'ideal', u'ADJ'),\n",
       " (u'inert', u'ADJ'),\n",
       " (u'ingeniously', u'ADV'),\n",
       " (u'instantaneously', u'ADV'),\n",
       " (u'instead', u'ADV'),\n",
       " (u'latest', u'ADJ'),\n",
       " (u'linear', u'ADJ'),\n",
       " (u'literal', u'ADJ'),\n",
       " (u'mixed', u'ADJ'),\n",
       " (u'multiple', u'ADJ'),\n",
       " (u'narrative', u'ADJ'),\n",
       " (u'natural', u'ADJ'),\n",
       " (u'original', u'ADJ'),\n",
       " (u'other', u'ADJ'),\n",
       " (u'outer', u'ADJ'),\n",
       " (u'particular', u'ADJ'),\n",
       " (u'perceptible', u'ADJ'),\n",
       " (u'personal', u'ADJ'),\n",
       " (u'photographic', u'ADJ'),\n",
       " (u'physical', u'ADJ'),\n",
       " (u'present', u'ADJ'),\n",
       " (u'primarily', u'ADV'),\n",
       " (u'principal', u'ADJ'),\n",
       " (u'rather', u'ADV'),\n",
       " (u'rational', u'ADJ'),\n",
       " (u'recent', u'ADJ'),\n",
       " (u'recognizable', u'ADJ'),\n",
       " (u'rough', u'ADJ'),\n",
       " (u'sensitive', u'ADJ'),\n",
       " (u'silver', u'ADJ'),\n",
       " (u'similar', u'ADJ'),\n",
       " (u'still', u'ADV'),\n",
       " (u'subsequent', u'ADJ'),\n",
       " (u'subtle', u'ADJ'),\n",
       " (u'tense', u'ADJ'),\n",
       " (u'totally', u'ADV'),\n",
       " (u'unique', u'ADJ'),\n",
       " (u'unpredictable', u'ADJ'),\n",
       " (u'vaguely', u'ADV')]"
      ]
     },
     "execution_count": 92,
     "metadata": {},
     "output_type": "execute_result"
    }
   ],
   "source": [
    "vocab = list(set(vocab))\n",
    "vocab.sort()\n",
    "vocab"
   ]
  },
  {
   "cell_type": "code",
   "execution_count": null,
   "metadata": {},
   "outputs": [],
   "source": []
  },
  {
   "cell_type": "code",
   "execution_count": 39,
   "metadata": {
    "collapsed": true
   },
   "outputs": [],
   "source": [
    "#http://bdewilde.github.io/blog/2014/09/23/intro-to-automatic-keyphrase-extraction/\n"
   ]
  },
  {
   "cell_type": "code",
   "execution_count": 40,
   "metadata": {
    "collapsed": true
   },
   "outputs": [],
   "source": [
    "import textacy"
   ]
  },
  {
   "cell_type": "code",
   "execution_count": 44,
   "metadata": {},
   "outputs": [],
   "source": [
    "#prprocessing\n",
    "xx = textacy.preprocess_text(text_ss, lowercase=True, no_punct=True)"
   ]
  },
  {
   "cell_type": "markdown",
   "metadata": {},
   "source": [
    "Not too bad :)"
   ]
  },
  {
   "cell_type": "code",
   "execution_count": 48,
   "metadata": {},
   "outputs": [
    {
     "name": "stdout",
     "output_type": "stream",
     "text": [
      " “image”, directing our viewing of  images  towards an understanding of the na\n",
      "brought by them, the original thin  images  gain a unique vibrancy, and the su\n",
      "osive action of the chemicals, the  images  have the appearance of emerging  f\n",
      "eries  using computers Fan sampled  images  of hundreds of trees taken from di\n",
      " is free to come forth. Whilst the  images  in “Duration”, charged as they are\n"
     ]
    }
   ],
   "source": [
    "textacy.text_utils.keyword_in_context(text_ss, 'images', window_width=35)"
   ]
  },
  {
   "cell_type": "code",
   "execution_count": 49,
   "metadata": {
    "collapsed": true
   },
   "outputs": [],
   "source": [
    "doc = textacy.doc.Doc(text_ss)"
   ]
  },
  {
   "cell_type": "code",
   "execution_count": 109,
   "metadata": {},
   "outputs": [],
   "source": [
    "stuff = list(textacy.extract.ngrams(doc, \n",
    "                            4, \n",
    "                            filter_stops=True, filter_punct=True, \n",
    "                            filter_nums=False))"
   ]
  },
  {
   "cell_type": "code",
   "execution_count": 110,
   "metadata": {},
   "outputs": [],
   "source": [
    "def my_filter(x):\n",
    "    pss = [token.pos_ for token in x]\n",
    "    if u'\\u2019s' in [token.orth_ for token in x]: return False\n",
    "    if u'NOUN' in pss and not u'PROPN' in pss and u'PART' not in pss: return True\n",
    "    return False\n",
    "    \n",
    "ngrams = [ x for x in stuff if my_filter(x)]\n",
    "ngrams.sort( key=lambda x : x[0].lower_)     "
   ]
  },
  {
   "cell_type": "code",
   "execution_count": 111,
   "metadata": {},
   "outputs": [
    {
     "data": {
      "text/plain": [
       "[action of the chemicals,\n",
       " alterations to the original,\n",
       " approximation to the ideal,\n",
       " artist has used chemicals,\n",
       " background is in sculpture,\n",
       " borrows from abstract nature,\n",
       " captures in the dark,\n",
       " closer to the truth,\n",
       " collection of photographic works,\n",
       " colours and rough texture,\n",
       " comes from her training,\n",
       " composed of such units,\n",
       " concealing what the subject,\n",
       " deconstructing the narrative components,\n",
       " degeneration into a totally,\n",
       " descriptive information from photographs,\n",
       " destruction of the image,\n",
       " details of the figures,\n",
       " development of the photographs,\n",
       " disintegration by the corrosive,\n",
       " distance between the subject,\n",
       " effectively reducing the distance,\n",
       " effects obtained in development,\n",
       " eliminating any explicit hint,\n",
       " endeavour of extracting descriptive,\n",
       " evolving in different trajectories,\n",
       " exhibition gets its title,\n",
       " exhibition hall were chosen,\n",
       " exists within the picture,\n",
       " forms and a gradually,\n",
       " gain a unique vibrancy,\n",
       " gaining their original forms,\n",
       " hint of the time,\n",
       " humans and inert objects,\n",
       " hundreds of trees taken,\n",
       " image over the course,\n",
       " image in a way,\n",
       " image escapes the limitations,\n",
       " images towards an understanding,\n",
       " images gain a unique,\n",
       " images have the appearance,\n",
       " influence on her creative,\n",
       " ingeniously open another path,\n",
       " layer of the photos,\n",
       " left by the passage,\n",
       " like alcohol and acid,\n",
       " loses its particular significance,\n",
       " marble and other mixed,\n",
       " narrative dimension of time,\n",
       " original thin images gain,\n",
       " personal values and managing,\n",
       " phenomena that she captures,\n",
       " photographed in the series,\n",
       " photographic works the influence,\n",
       " pieces in the exhibition,\n",
       " presenting her recent reflections,\n",
       " principal series of works,\n",
       " process of gradual subjugation,\n",
       " recognizing it as photography,\n",
       " reconstruction after the destruction,\n",
       " reflections on the themes,\n",
       " relationship between the self,\n",
       " sampled images of hundreds,\n",
       " saying that the series,\n",
       " sensitive to her use,\n",
       " significance once this objective,\n",
       " subject and the object,\n",
       " subject and the object,\n",
       " subjugation of the ego,\n",
       " taken from different perspectives,\n",
       " things and the narrative,\n",
       " till the present day,\n",
       " time in the image,\n",
       " transformations make the photos,\n",
       " trees taken from different,\n",
       " true trace**. By eliminating,\n",
       " understanding of the nature,\n",
       " understanding of the relationship,\n",
       " visitor finds themselves hesitating,\n",
       " way that is similar]"
      ]
     },
     "execution_count": 111,
     "metadata": {},
     "output_type": "execute_result"
    }
   ],
   "source": [
    "ngrams\n"
   ]
  },
  {
   "cell_type": "code",
   "execution_count": null,
   "metadata": {},
   "outputs": [],
   "source": [
    "\n"
   ]
  },
  {
   "cell_type": "code",
   "execution_count": null,
   "metadata": {
    "collapsed": true
   },
   "outputs": [],
   "source": []
  }
 ],
 "metadata": {
  "kernelspec": {
   "display_name": "Python 2",
   "language": "python",
   "name": "python2"
  },
  "language_info": {
   "codemirror_mode": {
    "name": "ipython",
    "version": 2
   },
   "file_extension": ".py",
   "mimetype": "text/x-python",
   "name": "python",
   "nbconvert_exporter": "python",
   "pygments_lexer": "ipython2",
   "version": "2.7.13"
  }
 },
 "nbformat": 4,
 "nbformat_minor": 2
}
